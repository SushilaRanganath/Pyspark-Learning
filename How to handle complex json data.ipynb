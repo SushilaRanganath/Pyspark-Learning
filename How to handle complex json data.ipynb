{
 "cells": [
  {
   "cell_type": "code",
   "execution_count": 0,
   "metadata": {
    "application/vnd.databricks.v1+cell": {
     "cellMetadata": {
      "byteLimit": 2048000,
      "rowLimit": 10000
     },
     "inputWidgets": {},
     "nuid": "9d00aca9-bddd-41e7-b703-dd369560d3de",
     "showTitle": false,
     "title": ""
    }
   },
   "outputs": [],
   "source": [
    "df = spark.read.json(\"/FileStore/tables/Complex.json\")"
   ]
  },
  {
   "cell_type": "code",
   "execution_count": 0,
   "metadata": {
    "application/vnd.databricks.v1+cell": {
     "cellMetadata": {
      "byteLimit": 2048000,
      "rowLimit": 10000
     },
     "inputWidgets": {},
     "nuid": "c101ffab-a225-4486-ba71-d7fb9b207c77",
     "showTitle": false,
     "title": ""
    }
   },
   "outputs": [
    {
     "output_type": "display_data",
     "data": {
      "text/html": [
       "<style scoped>\n",
       "  .table-result-container {\n",
       "    max-height: 300px;\n",
       "    overflow: auto;\n",
       "  }\n",
       "  table, th, td {\n",
       "    border: 1px solid black;\n",
       "    border-collapse: collapse;\n",
       "  }\n",
       "  th, td {\n",
       "    padding: 5px;\n",
       "  }\n",
       "  th {\n",
       "    text-align: left;\n",
       "  }\n",
       "</style><div class='table-result-container'><table class='table-result'><thead style='background-color: white'><tr><th>_corrupt_record</th><th>id</th><th>type</th></tr></thead><tbody><tr><td>{</td><td>null</td><td>null</td></tr><tr><td>\t\"id\": \"0001\",</td><td>null</td><td>null</td></tr><tr><td>\t\"type\": \"donut\",</td><td>null</td><td>null</td></tr><tr><td>\t\"name\": \"Cake\",</td><td>null</td><td>null</td></tr><tr><td>\t\"ppu\": 0.55,</td><td>null</td><td>null</td></tr><tr><td>\t\"batters\":</td><td>null</td><td>null</td></tr><tr><td>\t\t{</td><td>null</td><td>null</td></tr><tr><td>\t\t\t\"batter\":</td><td>null</td><td>null</td></tr><tr><td>\t\t\t\t[</td><td>null</td><td>null</td></tr><tr><td>null</td><td>1001</td><td>Regular</td></tr><tr><td>null</td><td>1002</td><td>Chocolate</td></tr><tr><td>null</td><td>1003</td><td>Blueberry</td></tr><tr><td>null</td><td>1004</td><td>Devil's Food</td></tr><tr><td>\t\t\t\t]</td><td>null</td><td>null</td></tr><tr><td>\t\t},</td><td>null</td><td>null</td></tr><tr><td>\t\"topping\":</td><td>null</td><td>null</td></tr><tr><td>\t\t[</td><td>null</td><td>null</td></tr><tr><td>null</td><td>5001</td><td>None</td></tr><tr><td>null</td><td>5002</td><td>Glazed</td></tr><tr><td>null</td><td>5005</td><td>Sugar</td></tr><tr><td>null</td><td>5007</td><td>Powdered Sugar</td></tr><tr><td>null</td><td>5006</td><td>Chocolate with Sprinkles</td></tr><tr><td>null</td><td>5003</td><td>Chocolate</td></tr><tr><td>null</td><td>5004</td><td>Maple</td></tr><tr><td>\t\t]</td><td>null</td><td>null</td></tr><tr><td>}</td><td>null</td><td>null</td></tr></tbody></table></div>"
      ]
     },
     "metadata": {
      "application/vnd.databricks.v1+output": {
       "addedWidgets": {},
       "aggData": [],
       "aggError": "",
       "aggOverflow": false,
       "aggSchema": [],
       "aggSeriesLimitReached": false,
       "aggType": "",
       "arguments": {},
       "columnCustomDisplayInfos": {},
       "data": [
        [
         "{",
         null,
         null
        ],
        [
         "\t\"id\": \"0001\",",
         null,
         null
        ],
        [
         "\t\"type\": \"donut\",",
         null,
         null
        ],
        [
         "\t\"name\": \"Cake\",",
         null,
         null
        ],
        [
         "\t\"ppu\": 0.55,",
         null,
         null
        ],
        [
         "\t\"batters\":",
         null,
         null
        ],
        [
         "\t\t{",
         null,
         null
        ],
        [
         "\t\t\t\"batter\":",
         null,
         null
        ],
        [
         "\t\t\t\t[",
         null,
         null
        ],
        [
         null,
         "1001",
         "Regular"
        ],
        [
         null,
         "1002",
         "Chocolate"
        ],
        [
         null,
         "1003",
         "Blueberry"
        ],
        [
         null,
         "1004",
         "Devil's Food"
        ],
        [
         "\t\t\t\t]",
         null,
         null
        ],
        [
         "\t\t},",
         null,
         null
        ],
        [
         "\t\"topping\":",
         null,
         null
        ],
        [
         "\t\t[",
         null,
         null
        ],
        [
         null,
         "5001",
         "None"
        ],
        [
         null,
         "5002",
         "Glazed"
        ],
        [
         null,
         "5005",
         "Sugar"
        ],
        [
         null,
         "5007",
         "Powdered Sugar"
        ],
        [
         null,
         "5006",
         "Chocolate with Sprinkles"
        ],
        [
         null,
         "5003",
         "Chocolate"
        ],
        [
         null,
         "5004",
         "Maple"
        ],
        [
         "\t\t]",
         null,
         null
        ],
        [
         "}",
         null,
         null
        ]
       ],
       "datasetInfos": [],
       "dbfsResultPath": null,
       "isJsonSchema": true,
       "metadata": {},
       "overflow": false,
       "plotOptions": {
        "customPlotOptions": {},
        "displayType": "table",
        "pivotAggregation": null,
        "pivotColumns": null,
        "xColumns": null,
        "yColumns": null
       },
       "removedWidgets": [],
       "schema": [
        {
         "metadata": "{}",
         "name": "_corrupt_record",
         "type": "\"string\""
        },
        {
         "metadata": "{}",
         "name": "id",
         "type": "\"string\""
        },
        {
         "metadata": "{}",
         "name": "type",
         "type": "\"string\""
        }
       ],
       "type": "table"
      }
     },
     "output_type": "display_data"
    }
   ],
   "source": [
    "display(df)"
   ]
  },
  {
   "cell_type": "code",
   "execution_count": 0,
   "metadata": {
    "application/vnd.databricks.v1+cell": {
     "cellMetadata": {
      "byteLimit": 2048000,
      "rowLimit": 10000
     },
     "inputWidgets": {},
     "nuid": "dc3e01f8-af1c-46b4-a2eb-d5c346292eb7",
     "showTitle": false,
     "title": ""
    }
   },
   "outputs": [
    {
     "output_type": "display_data",
     "data": {
      "text/html": [
       "<style scoped>\n",
       "  .table-result-container {\n",
       "    max-height: 300px;\n",
       "    overflow: auto;\n",
       "  }\n",
       "  table, th, td {\n",
       "    border: 1px solid black;\n",
       "    border-collapse: collapse;\n",
       "  }\n",
       "  th, td {\n",
       "    padding: 5px;\n",
       "  }\n",
       "  th {\n",
       "    text-align: left;\n",
       "  }\n",
       "</style><div class='table-result-container'><table class='table-result'><thead style='background-color: white'><tr><th>batters</th><th>id</th><th>name</th><th>ppu</th><th>topping</th><th>type</th></tr></thead><tbody><tr><td>List(List(List(1001, Regular), List(1002, Chocolate), List(1003, Blueberry), List(1004, Devil's Food)))</td><td>0001</td><td>Cake</td><td>0.55</td><td>List(List(5001, None), List(5002, Glazed), List(5005, Sugar), List(5007, Powdered Sugar), List(5006, Chocolate with Sprinkles), List(5003, Chocolate), List(5004, Maple))</td><td>donut</td></tr></tbody></table></div>"
      ]
     },
     "metadata": {
      "application/vnd.databricks.v1+output": {
       "addedWidgets": {},
       "aggData": [],
       "aggError": "",
       "aggOverflow": false,
       "aggSchema": [],
       "aggSeriesLimitReached": false,
       "aggType": "",
       "arguments": {},
       "columnCustomDisplayInfos": {},
       "data": [
        [
         [
          [
           [
            "1001",
            "Regular"
           ],
           [
            "1002",
            "Chocolate"
           ],
           [
            "1003",
            "Blueberry"
           ],
           [
            "1004",
            "Devil's Food"
           ]
          ]
         ],
         "0001",
         "Cake",
         0.55,
         [
          [
           "5001",
           "None"
          ],
          [
           "5002",
           "Glazed"
          ],
          [
           "5005",
           "Sugar"
          ],
          [
           "5007",
           "Powdered Sugar"
          ],
          [
           "5006",
           "Chocolate with Sprinkles"
          ],
          [
           "5003",
           "Chocolate"
          ],
          [
           "5004",
           "Maple"
          ]
         ],
         "donut"
        ]
       ],
       "datasetInfos": [],
       "dbfsResultPath": null,
       "isJsonSchema": true,
       "metadata": {},
       "overflow": false,
       "plotOptions": {
        "customPlotOptions": {},
        "displayType": "table",
        "pivotAggregation": null,
        "pivotColumns": null,
        "xColumns": null,
        "yColumns": null
       },
       "removedWidgets": [],
       "schema": [
        {
         "metadata": "{}",
         "name": "batters",
         "type": "{\"type\":\"struct\",\"fields\":[{\"name\":\"batter\",\"type\":{\"type\":\"array\",\"elementType\":{\"type\":\"struct\",\"fields\":[{\"name\":\"id\",\"type\":\"string\",\"nullable\":true,\"metadata\":{}},{\"name\":\"type\",\"type\":\"string\",\"nullable\":true,\"metadata\":{}}]},\"containsNull\":true},\"nullable\":true,\"metadata\":{}}]}"
        },
        {
         "metadata": "{}",
         "name": "id",
         "type": "\"string\""
        },
        {
         "metadata": "{}",
         "name": "name",
         "type": "\"string\""
        },
        {
         "metadata": "{}",
         "name": "ppu",
         "type": "\"double\""
        },
        {
         "metadata": "{}",
         "name": "topping",
         "type": "{\"type\":\"array\",\"elementType\":{\"type\":\"struct\",\"fields\":[{\"name\":\"id\",\"type\":\"string\",\"nullable\":true,\"metadata\":{}},{\"name\":\"type\",\"type\":\"string\",\"nullable\":true,\"metadata\":{}}]},\"containsNull\":true}"
        },
        {
         "metadata": "{}",
         "name": "type",
         "type": "\"string\""
        }
       ],
       "type": "table"
      }
     },
     "output_type": "display_data"
    }
   ],
   "source": [
    "df = spark.read.option(\"multiline\",\"True\").json(\"/FileStore/tables/Complex.json\")\n",
    "display(df)"
   ]
  },
  {
   "cell_type": "code",
   "execution_count": 0,
   "metadata": {
    "application/vnd.databricks.v1+cell": {
     "cellMetadata": {
      "byteLimit": 2048000,
      "rowLimit": 10000
     },
     "inputWidgets": {},
     "nuid": "10c62b9b-3d74-44c6-9729-abbd3ffcd81f",
     "showTitle": false,
     "title": ""
    }
   },
   "outputs": [
    {
     "output_type": "stream",
     "name": "stdout",
     "output_type": "stream",
     "text": [
      "root\n |-- batters: struct (nullable = true)\n |    |-- batter: array (nullable = true)\n |    |    |-- element: struct (containsNull = true)\n |    |    |    |-- id: string (nullable = true)\n |    |    |    |-- type: string (nullable = true)\n |-- id: string (nullable = true)\n |-- name: string (nullable = true)\n |-- ppu: double (nullable = true)\n |-- topping: array (nullable = true)\n |    |-- element: struct (containsNull = true)\n |    |    |-- id: string (nullable = true)\n |    |    |-- type: string (nullable = true)\n |-- type: string (nullable = true)\n\n"
     ]
    }
   ],
   "source": [
    "# Complex data types - Struct,array,map\n",
    "# we can flatten complex datatype like array we can use explode function.\n",
    "from pyspark.sql.functions import explode , col\n",
    "#display(df.select(explode(\"batters.batter\")))\n",
    "\n",
    "df.printSchema()\n"
   ]
  },
  {
   "cell_type": "code",
   "execution_count": 0,
   "metadata": {
    "application/vnd.databricks.v1+cell": {
     "cellMetadata": {
      "byteLimit": 2048000,
      "rowLimit": 10000
     },
     "inputWidgets": {},
     "nuid": "4c19b6f8-2d72-4ff7-bae2-f850a5f26bbd",
     "showTitle": false,
     "title": ""
    }
   },
   "outputs": [
    {
     "output_type": "display_data",
     "data": {
      "text/html": [
       "<style scoped>\n",
       "  .table-result-container {\n",
       "    max-height: 300px;\n",
       "    overflow: auto;\n",
       "  }\n",
       "  table, th, td {\n",
       "    border: 1px solid black;\n",
       "    border-collapse: collapse;\n",
       "  }\n",
       "  th, td {\n",
       "    padding: 5px;\n",
       "  }\n",
       "  th {\n",
       "    text-align: left;\n",
       "  }\n",
       "</style><div class='table-result-container'><table class='table-result'><thead style='background-color: white'><tr><th>id</th><th>name</th><th>ppu</th><th>type</th><th>topping_id</th><th>topping_type</th><th>batter_id</th><th>batter_type</th></tr></thead><tbody><tr><td>0001</td><td>Cake</td><td>0.55</td><td>donut</td><td>5001</td><td>None</td><td>1001</td><td>Regular</td></tr><tr><td>0001</td><td>Cake</td><td>0.55</td><td>donut</td><td>5001</td><td>None</td><td>1002</td><td>Chocolate</td></tr><tr><td>0001</td><td>Cake</td><td>0.55</td><td>donut</td><td>5001</td><td>None</td><td>1003</td><td>Blueberry</td></tr><tr><td>0001</td><td>Cake</td><td>0.55</td><td>donut</td><td>5001</td><td>None</td><td>1004</td><td>Devil's Food</td></tr><tr><td>0001</td><td>Cake</td><td>0.55</td><td>donut</td><td>5002</td><td>Glazed</td><td>1001</td><td>Regular</td></tr><tr><td>0001</td><td>Cake</td><td>0.55</td><td>donut</td><td>5002</td><td>Glazed</td><td>1002</td><td>Chocolate</td></tr><tr><td>0001</td><td>Cake</td><td>0.55</td><td>donut</td><td>5002</td><td>Glazed</td><td>1003</td><td>Blueberry</td></tr><tr><td>0001</td><td>Cake</td><td>0.55</td><td>donut</td><td>5002</td><td>Glazed</td><td>1004</td><td>Devil's Food</td></tr><tr><td>0001</td><td>Cake</td><td>0.55</td><td>donut</td><td>5005</td><td>Sugar</td><td>1001</td><td>Regular</td></tr><tr><td>0001</td><td>Cake</td><td>0.55</td><td>donut</td><td>5005</td><td>Sugar</td><td>1002</td><td>Chocolate</td></tr><tr><td>0001</td><td>Cake</td><td>0.55</td><td>donut</td><td>5005</td><td>Sugar</td><td>1003</td><td>Blueberry</td></tr><tr><td>0001</td><td>Cake</td><td>0.55</td><td>donut</td><td>5005</td><td>Sugar</td><td>1004</td><td>Devil's Food</td></tr><tr><td>0001</td><td>Cake</td><td>0.55</td><td>donut</td><td>5007</td><td>Powdered Sugar</td><td>1001</td><td>Regular</td></tr><tr><td>0001</td><td>Cake</td><td>0.55</td><td>donut</td><td>5007</td><td>Powdered Sugar</td><td>1002</td><td>Chocolate</td></tr><tr><td>0001</td><td>Cake</td><td>0.55</td><td>donut</td><td>5007</td><td>Powdered Sugar</td><td>1003</td><td>Blueberry</td></tr><tr><td>0001</td><td>Cake</td><td>0.55</td><td>donut</td><td>5007</td><td>Powdered Sugar</td><td>1004</td><td>Devil's Food</td></tr><tr><td>0001</td><td>Cake</td><td>0.55</td><td>donut</td><td>5006</td><td>Chocolate with Sprinkles</td><td>1001</td><td>Regular</td></tr><tr><td>0001</td><td>Cake</td><td>0.55</td><td>donut</td><td>5006</td><td>Chocolate with Sprinkles</td><td>1002</td><td>Chocolate</td></tr><tr><td>0001</td><td>Cake</td><td>0.55</td><td>donut</td><td>5006</td><td>Chocolate with Sprinkles</td><td>1003</td><td>Blueberry</td></tr><tr><td>0001</td><td>Cake</td><td>0.55</td><td>donut</td><td>5006</td><td>Chocolate with Sprinkles</td><td>1004</td><td>Devil's Food</td></tr><tr><td>0001</td><td>Cake</td><td>0.55</td><td>donut</td><td>5003</td><td>Chocolate</td><td>1001</td><td>Regular</td></tr><tr><td>0001</td><td>Cake</td><td>0.55</td><td>donut</td><td>5003</td><td>Chocolate</td><td>1002</td><td>Chocolate</td></tr><tr><td>0001</td><td>Cake</td><td>0.55</td><td>donut</td><td>5003</td><td>Chocolate</td><td>1003</td><td>Blueberry</td></tr><tr><td>0001</td><td>Cake</td><td>0.55</td><td>donut</td><td>5003</td><td>Chocolate</td><td>1004</td><td>Devil's Food</td></tr><tr><td>0001</td><td>Cake</td><td>0.55</td><td>donut</td><td>5004</td><td>Maple</td><td>1001</td><td>Regular</td></tr><tr><td>0001</td><td>Cake</td><td>0.55</td><td>donut</td><td>5004</td><td>Maple</td><td>1002</td><td>Chocolate</td></tr><tr><td>0001</td><td>Cake</td><td>0.55</td><td>donut</td><td>5004</td><td>Maple</td><td>1003</td><td>Blueberry</td></tr><tr><td>0001</td><td>Cake</td><td>0.55</td><td>donut</td><td>5004</td><td>Maple</td><td>1004</td><td>Devil's Food</td></tr></tbody></table></div>"
      ]
     },
     "metadata": {
      "application/vnd.databricks.v1+output": {
       "addedWidgets": {},
       "aggData": [],
       "aggError": "",
       "aggOverflow": false,
       "aggSchema": [],
       "aggSeriesLimitReached": false,
       "aggType": "",
       "arguments": {},
       "columnCustomDisplayInfos": {},
       "data": [
        [
         "0001",
         "Cake",
         0.55,
         "donut",
         "5001",
         "None",
         "1001",
         "Regular"
        ],
        [
         "0001",
         "Cake",
         0.55,
         "donut",
         "5001",
         "None",
         "1002",
         "Chocolate"
        ],
        [
         "0001",
         "Cake",
         0.55,
         "donut",
         "5001",
         "None",
         "1003",
         "Blueberry"
        ],
        [
         "0001",
         "Cake",
         0.55,
         "donut",
         "5001",
         "None",
         "1004",
         "Devil's Food"
        ],
        [
         "0001",
         "Cake",
         0.55,
         "donut",
         "5002",
         "Glazed",
         "1001",
         "Regular"
        ],
        [
         "0001",
         "Cake",
         0.55,
         "donut",
         "5002",
         "Glazed",
         "1002",
         "Chocolate"
        ],
        [
         "0001",
         "Cake",
         0.55,
         "donut",
         "5002",
         "Glazed",
         "1003",
         "Blueberry"
        ],
        [
         "0001",
         "Cake",
         0.55,
         "donut",
         "5002",
         "Glazed",
         "1004",
         "Devil's Food"
        ],
        [
         "0001",
         "Cake",
         0.55,
         "donut",
         "5005",
         "Sugar",
         "1001",
         "Regular"
        ],
        [
         "0001",
         "Cake",
         0.55,
         "donut",
         "5005",
         "Sugar",
         "1002",
         "Chocolate"
        ],
        [
         "0001",
         "Cake",
         0.55,
         "donut",
         "5005",
         "Sugar",
         "1003",
         "Blueberry"
        ],
        [
         "0001",
         "Cake",
         0.55,
         "donut",
         "5005",
         "Sugar",
         "1004",
         "Devil's Food"
        ],
        [
         "0001",
         "Cake",
         0.55,
         "donut",
         "5007",
         "Powdered Sugar",
         "1001",
         "Regular"
        ],
        [
         "0001",
         "Cake",
         0.55,
         "donut",
         "5007",
         "Powdered Sugar",
         "1002",
         "Chocolate"
        ],
        [
         "0001",
         "Cake",
         0.55,
         "donut",
         "5007",
         "Powdered Sugar",
         "1003",
         "Blueberry"
        ],
        [
         "0001",
         "Cake",
         0.55,
         "donut",
         "5007",
         "Powdered Sugar",
         "1004",
         "Devil's Food"
        ],
        [
         "0001",
         "Cake",
         0.55,
         "donut",
         "5006",
         "Chocolate with Sprinkles",
         "1001",
         "Regular"
        ],
        [
         "0001",
         "Cake",
         0.55,
         "donut",
         "5006",
         "Chocolate with Sprinkles",
         "1002",
         "Chocolate"
        ],
        [
         "0001",
         "Cake",
         0.55,
         "donut",
         "5006",
         "Chocolate with Sprinkles",
         "1003",
         "Blueberry"
        ],
        [
         "0001",
         "Cake",
         0.55,
         "donut",
         "5006",
         "Chocolate with Sprinkles",
         "1004",
         "Devil's Food"
        ],
        [
         "0001",
         "Cake",
         0.55,
         "donut",
         "5003",
         "Chocolate",
         "1001",
         "Regular"
        ],
        [
         "0001",
         "Cake",
         0.55,
         "donut",
         "5003",
         "Chocolate",
         "1002",
         "Chocolate"
        ],
        [
         "0001",
         "Cake",
         0.55,
         "donut",
         "5003",
         "Chocolate",
         "1003",
         "Blueberry"
        ],
        [
         "0001",
         "Cake",
         0.55,
         "donut",
         "5003",
         "Chocolate",
         "1004",
         "Devil's Food"
        ],
        [
         "0001",
         "Cake",
         0.55,
         "donut",
         "5004",
         "Maple",
         "1001",
         "Regular"
        ],
        [
         "0001",
         "Cake",
         0.55,
         "donut",
         "5004",
         "Maple",
         "1002",
         "Chocolate"
        ],
        [
         "0001",
         "Cake",
         0.55,
         "donut",
         "5004",
         "Maple",
         "1003",
         "Blueberry"
        ],
        [
         "0001",
         "Cake",
         0.55,
         "donut",
         "5004",
         "Maple",
         "1004",
         "Devil's Food"
        ]
       ],
       "datasetInfos": [],
       "dbfsResultPath": null,
       "isJsonSchema": true,
       "metadata": {},
       "overflow": false,
       "plotOptions": {
        "customPlotOptions": {},
        "displayType": "table",
        "pivotAggregation": null,
        "pivotColumns": null,
        "xColumns": null,
        "yColumns": null
       },
       "removedWidgets": [],
       "schema": [
        {
         "metadata": "{}",
         "name": "id",
         "type": "\"string\""
        },
        {
         "metadata": "{}",
         "name": "name",
         "type": "\"string\""
        },
        {
         "metadata": "{}",
         "name": "ppu",
         "type": "\"double\""
        },
        {
         "metadata": "{}",
         "name": "type",
         "type": "\"string\""
        },
        {
         "metadata": "{}",
         "name": "topping_id",
         "type": "\"string\""
        },
        {
         "metadata": "{}",
         "name": "topping_type",
         "type": "\"string\""
        },
        {
         "metadata": "{}",
         "name": "batter_id",
         "type": "\"string\""
        },
        {
         "metadata": "{}",
         "name": "batter_type",
         "type": "\"string\""
        }
       ],
       "type": "table"
      }
     },
     "output_type": "display_data"
    }
   ],
   "source": [
    "df_final = df.withColumn(\"topping_explode\",explode(\"topping\"))\\\n",
    "            .withColumn(\"topping_id\",col(\"topping_explode.id\"))\\\n",
    "            .withColumn(\"topping_type\",col(\"topping_explode.type\"))\\\n",
    "            .drop(\"topping\",\"topping_explode\")\\\n",
    "            .withColumn(\"batter_explode\",explode(\"batters.batter\"))\\\n",
    "            .withColumn(\"batter_id\",col(\"batter_explode.id\"))\\\n",
    "            .withColumn(\"batter_type\",col(\"batter_explode.type\"))\\\n",
    "             .drop(\"batters\",\"batter_explode\")\n",
    "display(df_final)"
   ]
  },
  {
   "cell_type": "code",
   "execution_count": 0,
   "metadata": {
    "application/vnd.databricks.v1+cell": {
     "cellMetadata": {},
     "inputWidgets": {},
     "nuid": "4828be73-b4ea-41b6-94f3-864f730be7ce",
     "showTitle": false,
     "title": ""
    }
   },
   "outputs": [],
   "source": []
  }
 ],
 "metadata": {
  "application/vnd.databricks.v1+notebook": {
   "dashboards": [],
   "environmentMetadata": null,
   "language": "python",
   "notebookMetadata": {
    "pythonIndentUnit": 4
   },
   "notebookName": "How to handle complex json data",
   "widgets": {}
  }
 },
 "nbformat": 4,
 "nbformat_minor": 0
}
