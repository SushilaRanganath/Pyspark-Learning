{
 "cells": [
  {
   "cell_type": "code",
   "execution_count": 0,
   "metadata": {
    "application/vnd.databricks.v1+cell": {
     "cellMetadata": {
      "byteLimit": 2048000,
      "rowLimit": 10000
     },
     "inputWidgets": {},
     "nuid": "68f34f5d-bb02-4a1f-a9dd-d011d2f4bd0b",
     "showTitle": false,
     "title": ""
    }
   },
   "outputs": [
    {
     "output_type": "stream",
     "name": "stdout",
     "output_type": "stream",
     "text": [
      "Wrote 106 bytes.\nOut[1]: True"
     ]
    }
   ],
   "source": [
    "dbutils.fs.put(\"/schenarios/double_pipe.csv\",\"\"\"id||name||loc\n",
    "1||ravi||Bangalore\n",
    "2||Raj||Chennai\n",
    "3||Mahesh||Hyderabad\n",
    "4||Prasad||Chennai\n",
    "5||Sridhar||Pune\n",
    "\"\"\",True)"
   ]
  },
  {
   "cell_type": "code",
   "execution_count": 0,
   "metadata": {
    "application/vnd.databricks.v1+cell": {
     "cellMetadata": {
      "byteLimit": 2048000,
      "rowLimit": 10000
     },
     "inputWidgets": {},
     "nuid": "4ce67796-61ce-4ce5-bc70-a0e0c80436a2",
     "showTitle": false,
     "title": ""
    }
   },
   "outputs": [
    {
     "output_type": "display_data",
     "data": {
      "text/html": [
       "<style scoped>\n",
       "  .table-result-container {\n",
       "    max-height: 300px;\n",
       "    overflow: auto;\n",
       "  }\n",
       "  table, th, td {\n",
       "    border: 1px solid black;\n",
       "    border-collapse: collapse;\n",
       "  }\n",
       "  th, td {\n",
       "    padding: 5px;\n",
       "  }\n",
       "  th {\n",
       "    text-align: left;\n",
       "  }\n",
       "</style><div class='table-result-container'><table class='table-result'><thead style='background-color: white'><tr><th>id</th><th>name</th><th>loc</th></tr></thead><tbody><tr><td>1</td><td>ravi</td><td>Bangalore</td></tr><tr><td>2</td><td>Raj</td><td>Chennai</td></tr><tr><td>3</td><td>Mahesh</td><td>Hyderabad</td></tr><tr><td>4</td><td>Prasad</td><td>Chennai</td></tr><tr><td>5</td><td>Sridhar</td><td>Pune</td></tr></tbody></table></div>"
      ]
     },
     "metadata": {
      "application/vnd.databricks.v1+output": {
       "addedWidgets": {},
       "aggData": [],
       "aggError": "",
       "aggOverflow": false,
       "aggSchema": [],
       "aggSeriesLimitReached": false,
       "aggType": "",
       "arguments": {},
       "columnCustomDisplayInfos": {},
       "data": [
        [
         "1",
         "ravi",
         "Bangalore"
        ],
        [
         "2",
         "Raj",
         "Chennai"
        ],
        [
         "3",
         "Mahesh",
         "Hyderabad"
        ],
        [
         "4",
         "Prasad",
         "Chennai"
        ],
        [
         "5",
         "Sridhar",
         "Pune"
        ]
       ],
       "datasetInfos": [],
       "dbfsResultPath": null,
       "isJsonSchema": true,
       "metadata": {},
       "overflow": false,
       "plotOptions": {
        "customPlotOptions": {},
        "displayType": "table",
        "pivotAggregation": null,
        "pivotColumns": null,
        "xColumns": null,
        "yColumns": null
       },
       "removedWidgets": [],
       "schema": [
        {
         "metadata": "{}",
         "name": "id",
         "type": "\"string\""
        },
        {
         "metadata": "{}",
         "name": "name",
         "type": "\"string\""
        },
        {
         "metadata": "{}",
         "name": "loc",
         "type": "\"string\""
        }
       ],
       "type": "table"
      }
     },
     "output_type": "display_data"
    }
   ],
   "source": [
    "\n",
    "df = spark.read.csv(\"/schenarios/double_pipe.csv\",header=True,sep=\"||\")\n",
    "display(df)"
   ]
  },
  {
   "cell_type": "code",
   "execution_count": 0,
   "metadata": {
    "application/vnd.databricks.v1+cell": {
     "cellMetadata": {
      "byteLimit": 2048000,
      "rowLimit": 10000
     },
     "inputWidgets": {},
     "nuid": "58493596-9cfe-4fec-ac47-256fe33377e0",
     "showTitle": false,
     "title": ""
    }
   },
   "outputs": [
    {
     "output_type": "stream",
     "name": "stdout",
     "output_type": "stream",
     "text": [
      "Wrote 160 bytes.\nOut[3]: True"
     ]
    }
   ],
   "source": [
    "\n",
    "dbutils.fs.put(\"/scenarios/multi_sep.csv\",\"\"\"id,name,loc,marks\n",
    "1,ravi,Bangalore,35|45|55|65\n",
    "2,Raj,Chennai,35|45|55|65\n",
    "3,Mahesh,Hyderabad,35|45|55|65\n",
    "4,Prasad,Chennai,35|45|55|65\n",
    "5,Sridhar,Pune,35|45|55|65\n",
    "\"\"\",True)"
   ]
  },
  {
   "cell_type": "code",
   "execution_count": 0,
   "metadata": {
    "application/vnd.databricks.v1+cell": {
     "cellMetadata": {
      "byteLimit": 2048000,
      "rowLimit": 10000
     },
     "inputWidgets": {},
     "nuid": "72de406b-acff-4a33-9075-0a3b18c5cd94",
     "showTitle": false,
     "title": ""
    }
   },
   "outputs": [
    {
     "output_type": "display_data",
     "data": {
      "text/html": [
       "<style scoped>\n",
       "  .table-result-container {\n",
       "    max-height: 300px;\n",
       "    overflow: auto;\n",
       "  }\n",
       "  table, th, td {\n",
       "    border: 1px solid black;\n",
       "    border-collapse: collapse;\n",
       "  }\n",
       "  th, td {\n",
       "    padding: 5px;\n",
       "  }\n",
       "  th {\n",
       "    text-align: left;\n",
       "  }\n",
       "</style><div class='table-result-container'><table class='table-result'><thead style='background-color: white'><tr><th>id</th><th>name</th><th>loc</th><th>marks</th></tr></thead><tbody><tr><td>1</td><td>ravi</td><td>Bangalore</td><td>35|45|55|65</td></tr><tr><td>2</td><td>Raj</td><td>Chennai</td><td>35|45|55|65</td></tr><tr><td>3</td><td>Mahesh</td><td>Hyderabad</td><td>35|45|55|65</td></tr><tr><td>4</td><td>Prasad</td><td>Chennai</td><td>35|45|55|65</td></tr><tr><td>5</td><td>Sridhar</td><td>Pune</td><td>35|45|55|65</td></tr></tbody></table></div>"
      ]
     },
     "metadata": {
      "application/vnd.databricks.v1+output": {
       "addedWidgets": {},
       "aggData": [],
       "aggError": "",
       "aggOverflow": false,
       "aggSchema": [],
       "aggSeriesLimitReached": false,
       "aggType": "",
       "arguments": {},
       "columnCustomDisplayInfos": {},
       "data": [
        [
         "1",
         "ravi",
         "Bangalore",
         "35|45|55|65"
        ],
        [
         "2",
         "Raj",
         "Chennai",
         "35|45|55|65"
        ],
        [
         "3",
         "Mahesh",
         "Hyderabad",
         "35|45|55|65"
        ],
        [
         "4",
         "Prasad",
         "Chennai",
         "35|45|55|65"
        ],
        [
         "5",
         "Sridhar",
         "Pune",
         "35|45|55|65"
        ]
       ],
       "datasetInfos": [],
       "dbfsResultPath": null,
       "isJsonSchema": true,
       "metadata": {},
       "overflow": false,
       "plotOptions": {
        "customPlotOptions": {},
        "displayType": "table",
        "pivotAggregation": null,
        "pivotColumns": null,
        "xColumns": null,
        "yColumns": null
       },
       "removedWidgets": [],
       "schema": [
        {
         "metadata": "{}",
         "name": "id",
         "type": "\"string\""
        },
        {
         "metadata": "{}",
         "name": "name",
         "type": "\"string\""
        },
        {
         "metadata": "{}",
         "name": "loc",
         "type": "\"string\""
        },
        {
         "metadata": "{}",
         "name": "marks",
         "type": "\"string\""
        }
       ],
       "type": "table"
      }
     },
     "output_type": "display_data"
    }
   ],
   "source": [
    "\n",
    "df_multi = spark.read.csv(\"/scenarios/multi_sep.csv\",header=True)\n",
    "display(df_multi)"
   ]
  },
  {
   "cell_type": "code",
   "execution_count": 0,
   "metadata": {
    "application/vnd.databricks.v1+cell": {
     "cellMetadata": {
      "byteLimit": 2048000,
      "implicitDf": true,
      "rowLimit": 10000
     },
     "inputWidgets": {},
     "nuid": "8d220fd8-fde0-4703-aa09-f05ccc2f42c3",
     "showTitle": false,
     "title": ""
    }
   },
   "outputs": [
    {
     "output_type": "display_data",
     "data": {
      "text/html": [
       "<style scoped>\n",
       "  .table-result-container {\n",
       "    max-height: 300px;\n",
       "    overflow: auto;\n",
       "  }\n",
       "  table, th, td {\n",
       "    border: 1px solid black;\n",
       "    border-collapse: collapse;\n",
       "  }\n",
       "  th, td {\n",
       "    padding: 5px;\n",
       "  }\n",
       "  th {\n",
       "    text-align: left;\n",
       "  }\n",
       "</style><div class='table-result-container'><table class='table-result'><thead style='background-color: white'><tr><th>split(1|2|3|4, |, -1)</th></tr></thead><tbody><tr><td>List(1, |, 2, |, 3, |, 4, )</td></tr></tbody></table></div>"
      ]
     },
     "metadata": {
      "application/vnd.databricks.v1+output": {
       "addedWidgets": {},
       "aggData": [],
       "aggError": "",
       "aggOverflow": false,
       "aggSchema": [],
       "aggSeriesLimitReached": false,
       "aggType": "",
       "arguments": {},
       "columnCustomDisplayInfos": {},
       "data": [
        [
         [
          "1",
          "|",
          "2",
          "|",
          "3",
          "|",
          "4",
          ""
         ]
        ]
       ],
       "datasetInfos": [],
       "dbfsResultPath": null,
       "isJsonSchema": true,
       "metadata": {},
       "overflow": false,
       "plotOptions": {
        "customPlotOptions": {},
        "displayType": "table",
        "pivotAggregation": null,
        "pivotColumns": null,
        "xColumns": null,
        "yColumns": null
       },
       "removedWidgets": [],
       "schema": [
        {
         "metadata": "{\"__autoGeneratedAlias\":\"true\"}",
         "name": "split(1|2|3|4, |, -1)",
         "type": "{\"type\":\"array\",\"elementType\":\"string\",\"containsNull\":false}"
        }
       ],
       "type": "table"
      }
     },
     "output_type": "display_data"
    }
   ],
   "source": [
    "%sql\n",
    "select split(\"1|2|3|4\",\"\\|\")"
   ]
  },
  {
   "cell_type": "code",
   "execution_count": 0,
   "metadata": {
    "application/vnd.databricks.v1+cell": {
     "cellMetadata": {},
     "inputWidgets": {},
     "nuid": "a1b9fc7b-9951-47f6-8330-a6d58d7d67c2",
     "showTitle": false,
     "title": ""
    }
   },
   "outputs": [],
   "source": [
    "# splits returns python list , which is an array and we can slice them by indexing. it will split string into a list"
   ]
  },
  {
   "cell_type": "code",
   "execution_count": 0,
   "metadata": {
    "application/vnd.databricks.v1+cell": {
     "cellMetadata": {
      "byteLimit": 2048000,
      "rowLimit": 10000
     },
     "inputWidgets": {},
     "nuid": "71730032-c911-4935-bc71-fa395d254c38",
     "showTitle": false,
     "title": ""
    }
   },
   "outputs": [
    {
     "output_type": "display_data",
     "data": {
      "text/html": [
       "<style scoped>\n",
       "  .table-result-container {\n",
       "    max-height: 300px;\n",
       "    overflow: auto;\n",
       "  }\n",
       "  table, th, td {\n",
       "    border: 1px solid black;\n",
       "    border-collapse: collapse;\n",
       "  }\n",
       "  th, td {\n",
       "    padding: 5px;\n",
       "  }\n",
       "  th {\n",
       "    text-align: left;\n",
       "  }\n",
       "</style><div class='table-result-container'><table class='table-result'><thead style='background-color: white'><tr><th>id</th><th>name</th><th>loc</th><th>SUB1</th><th>SUB2</th><th>SUB3</th><th>SUB4</th></tr></thead><tbody><tr><td>1</td><td>ravi</td><td>Bangalore</td><td>35</td><td>45</td><td>55</td><td>65</td></tr><tr><td>2</td><td>Raj</td><td>Chennai</td><td>35</td><td>45</td><td>55</td><td>65</td></tr><tr><td>3</td><td>Mahesh</td><td>Hyderabad</td><td>35</td><td>45</td><td>55</td><td>65</td></tr><tr><td>4</td><td>Prasad</td><td>Chennai</td><td>35</td><td>45</td><td>55</td><td>65</td></tr><tr><td>5</td><td>Sridhar</td><td>Pune</td><td>35</td><td>45</td><td>55</td><td>65</td></tr></tbody></table></div>"
      ]
     },
     "metadata": {
      "application/vnd.databricks.v1+output": {
       "addedWidgets": {},
       "aggData": [],
       "aggError": "",
       "aggOverflow": false,
       "aggSchema": [],
       "aggSeriesLimitReached": false,
       "aggType": "",
       "arguments": {},
       "columnCustomDisplayInfos": {},
       "data": [
        [
         "1",
         "ravi",
         "Bangalore",
         "35",
         "45",
         "55",
         "65"
        ],
        [
         "2",
         "Raj",
         "Chennai",
         "35",
         "45",
         "55",
         "65"
        ],
        [
         "3",
         "Mahesh",
         "Hyderabad",
         "35",
         "45",
         "55",
         "65"
        ],
        [
         "4",
         "Prasad",
         "Chennai",
         "35",
         "45",
         "55",
         "65"
        ],
        [
         "5",
         "Sridhar",
         "Pune",
         "35",
         "45",
         "55",
         "65"
        ]
       ],
       "datasetInfos": [],
       "dbfsResultPath": null,
       "isJsonSchema": true,
       "metadata": {},
       "overflow": false,
       "plotOptions": {
        "customPlotOptions": {},
        "displayType": "table",
        "pivotAggregation": null,
        "pivotColumns": null,
        "xColumns": null,
        "yColumns": null
       },
       "removedWidgets": [],
       "schema": [
        {
         "metadata": "{}",
         "name": "id",
         "type": "\"string\""
        },
        {
         "metadata": "{}",
         "name": "name",
         "type": "\"string\""
        },
        {
         "metadata": "{}",
         "name": "loc",
         "type": "\"string\""
        },
        {
         "metadata": "{}",
         "name": "SUB1",
         "type": "\"string\""
        },
        {
         "metadata": "{}",
         "name": "SUB2",
         "type": "\"string\""
        },
        {
         "metadata": "{}",
         "name": "SUB3",
         "type": "\"string\""
        },
        {
         "metadata": "{}",
         "name": "SUB4",
         "type": "\"string\""
        }
       ],
       "type": "table"
      }
     },
     "output_type": "display_data"
    }
   ],
   "source": [
    "\n",
    "from pyspark.sql.functions import split,col\n",
    "df_multi =df_multi.withColumn(\"marks_split\",split(col(\"marks\"),\"[|]\"))\\\n",
    "            .withColumn(\"SUB1\",col(\"marks_split\")[0])\\\n",
    "            .withColumn(\"SUB2\",col(\"marks_split\")[1])\\\n",
    "            .withColumn(\"SUB3\",col(\"marks_split\")[2])\\\n",
    "            .withColumn(\"SUB4\",col(\"marks_split\")[3]).drop(\"marks_split\",\"marks\")\n",
    "display(df_multi)"
   ]
  }
 ],
 "metadata": {
  "application/vnd.databricks.v1+notebook": {
   "dashboards": [],
   "environmentMetadata": null,
   "language": "python",
   "notebookMetadata": {
    "mostRecentlyExecutedCommandWithImplicitDF": {
     "commandId": 3415470995301690,
     "dataframes": [
      "_sqldf"
     ]
    },
    "pythonIndentUnit": 4
   },
   "notebookName": "How to handle double delimiter or multi delimiters",
   "widgets": {}
  }
 },
 "nbformat": 4,
 "nbformat_minor": 0
}
