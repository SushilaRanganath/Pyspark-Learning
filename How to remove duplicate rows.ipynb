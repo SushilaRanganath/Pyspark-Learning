{
 "cells": [
  {
   "cell_type": "code",
   "execution_count": 0,
   "metadata": {
    "application/vnd.databricks.v1+cell": {
     "cellMetadata": {},
     "inputWidgets": {},
     "nuid": "f03801a0-d3d9-4f56-99d1-f8cb627649bb",
     "showTitle": false,
     "title": ""
    }
   },
   "outputs": [],
   "source": [
    "# distinct()\n",
    "#dropduplicate()\n",
    "#window function with Row_number()\n",
    "# groupby with count()\n"
   ]
  },
  {
   "cell_type": "code",
   "execution_count": 0,
   "metadata": {
    "application/vnd.databricks.v1+cell": {
     "cellMetadata": {
      "byteLimit": 2048000,
      "rowLimit": 10000
     },
     "inputWidgets": {},
     "nuid": "5ecfec1d-b7ac-4d75-8221-a6ac036ba1f9",
     "showTitle": false,
     "title": ""
    }
   },
   "outputs": [
    {
     "output_type": "stream",
     "name": "stdout",
     "output_type": "stream",
     "text": [
      "Wrote 272 bytes.\nOut[1]: True"
     ]
    }
   ],
   "source": [
    "dbutils.fs.put(\"/scenario/duplicates.csv\",\"\"\"id,name,loc,updated_date\n",
    "1,ravi,bangalore,2024-06-02\n",
    "1,ravi,chenai,2024-06-03\n",
    "1,ravi,hyderabad,2024-06-04\n",
    "2,raj,bangalore,2024-06-01\n",
    "2,raj,chennai,2024-06-05\n",
    "3,raj,Hyderabad,2024-06-02\n",
    "4,prasad,bangalore,2024-06-02\n",
    "5,mahesh,chennai,2024-06-09\n",
    "4,prasad,Hyderabad,2024-06-05\"\"\",True)"
   ]
  },
  {
   "cell_type": "code",
   "execution_count": 0,
   "metadata": {
    "application/vnd.databricks.v1+cell": {
     "cellMetadata": {
      "byteLimit": 2048000,
      "rowLimit": 10000
     },
     "inputWidgets": {},
     "nuid": "2a27e5bd-767a-4e59-a7be-d705d27fd4c5",
     "showTitle": false,
     "title": ""
    }
   },
   "outputs": [
    {
     "output_type": "stream",
     "name": "stdout",
     "output_type": "stream",
     "text": [
      "root\n |-- id: integer (nullable = true)\n |-- name: string (nullable = true)\n |-- loc: string (nullable = true)\n |-- updated_date: date (nullable = true)\n\n"
     ]
    }
   ],
   "source": [
    "df = spark.read.csv(\"/scenario/duplicates.csv\",header=True,inferSchema=True)\n",
    "df.printSchema()"
   ]
  },
  {
   "cell_type": "code",
   "execution_count": 0,
   "metadata": {
    "application/vnd.databricks.v1+cell": {
     "cellMetadata": {
      "byteLimit": 2048000,
      "rowLimit": 10000
     },
     "inputWidgets": {},
     "nuid": "6c42f2b1-4fe4-4315-86df-a87d10dbf661",
     "showTitle": false,
     "title": ""
    }
   },
   "outputs": [
    {
     "output_type": "display_data",
     "data": {
      "text/html": [
       "<style scoped>\n",
       "  .table-result-container {\n",
       "    max-height: 300px;\n",
       "    overflow: auto;\n",
       "  }\n",
       "  table, th, td {\n",
       "    border: 1px solid black;\n",
       "    border-collapse: collapse;\n",
       "  }\n",
       "  th, td {\n",
       "    padding: 5px;\n",
       "  }\n",
       "  th {\n",
       "    text-align: left;\n",
       "  }\n",
       "</style><div class='table-result-container'><table class='table-result'><thead style='background-color: white'><tr><th>id</th><th>name</th><th>loc</th><th>updated_date</th></tr></thead><tbody><tr><td>1</td><td>ravi</td><td>bangalore</td><td>2024-06-02</td></tr><tr><td>1</td><td>ravi</td><td>chenai</td><td>2024-06-03</td></tr><tr><td>1</td><td>ravi</td><td>hyderabad</td><td>2024-06-04</td></tr><tr><td>2</td><td>raj</td><td>bangalore</td><td>2024-06-01</td></tr><tr><td>2</td><td>raj</td><td>chennai</td><td>2024-06-05</td></tr><tr><td>3</td><td>raj</td><td>Hyderabad</td><td>2024-06-02</td></tr><tr><td>4</td><td>prasad</td><td>bangalore</td><td>2024-06-02</td></tr><tr><td>5</td><td>mahesh</td><td>chennai</td><td>2024-06-09</td></tr><tr><td>4</td><td>prasad</td><td>Hyderabad</td><td>2024-06-05</td></tr></tbody></table></div>"
      ]
     },
     "metadata": {
      "application/vnd.databricks.v1+output": {
       "addedWidgets": {},
       "aggData": [],
       "aggError": "",
       "aggOverflow": false,
       "aggSchema": [],
       "aggSeriesLimitReached": false,
       "aggType": "",
       "arguments": {},
       "columnCustomDisplayInfos": {},
       "data": [
        [
         1,
         "ravi",
         "bangalore",
         "2024-06-02"
        ],
        [
         1,
         "ravi",
         "chenai",
         "2024-06-03"
        ],
        [
         1,
         "ravi",
         "hyderabad",
         "2024-06-04"
        ],
        [
         2,
         "raj",
         "bangalore",
         "2024-06-01"
        ],
        [
         2,
         "raj",
         "chennai",
         "2024-06-05"
        ],
        [
         3,
         "raj",
         "Hyderabad",
         "2024-06-02"
        ],
        [
         4,
         "prasad",
         "bangalore",
         "2024-06-02"
        ],
        [
         5,
         "mahesh",
         "chennai",
         "2024-06-09"
        ],
        [
         4,
         "prasad",
         "Hyderabad",
         "2024-06-05"
        ]
       ],
       "datasetInfos": [],
       "dbfsResultPath": null,
       "isJsonSchema": true,
       "metadata": {},
       "overflow": false,
       "plotOptions": {
        "customPlotOptions": {},
        "displayType": "table",
        "pivotAggregation": null,
        "pivotColumns": null,
        "xColumns": null,
        "yColumns": null
       },
       "removedWidgets": [],
       "schema": [
        {
         "metadata": "{}",
         "name": "id",
         "type": "\"integer\""
        },
        {
         "metadata": "{}",
         "name": "name",
         "type": "\"string\""
        },
        {
         "metadata": "{}",
         "name": "loc",
         "type": "\"string\""
        },
        {
         "metadata": "{\"__detected_date_formats\":\"yyyy-M-d\"}",
         "name": "updated_date",
         "type": "\"date\""
        }
       ],
       "type": "table"
      }
     },
     "output_type": "display_data"
    }
   ],
   "source": [
    "display(df)"
   ]
  },
  {
   "cell_type": "code",
   "execution_count": 0,
   "metadata": {
    "application/vnd.databricks.v1+cell": {
     "cellMetadata": {
      "byteLimit": 2048000,
      "rowLimit": 10000
     },
     "inputWidgets": {},
     "nuid": "0359fc68-f8c5-4e36-8e20-f083ff952cf8",
     "showTitle": false,
     "title": ""
    }
   },
   "outputs": [
    {
     "output_type": "display_data",
     "data": {
      "text/html": [
       "<style scoped>\n",
       "  .table-result-container {\n",
       "    max-height: 300px;\n",
       "    overflow: auto;\n",
       "  }\n",
       "  table, th, td {\n",
       "    border: 1px solid black;\n",
       "    border-collapse: collapse;\n",
       "  }\n",
       "  th, td {\n",
       "    padding: 5px;\n",
       "  }\n",
       "  th {\n",
       "    text-align: left;\n",
       "  }\n",
       "</style><div class='table-result-container'><table class='table-result'><thead style='background-color: white'><tr><th>id</th><th>name</th><th>loc</th><th>updated_date</th></tr></thead><tbody><tr><td>2</td><td>raj</td><td>chennai</td><td>2024-06-05</td></tr><tr><td>1</td><td>ravi</td><td>bangalore</td><td>2024-06-02</td></tr><tr><td>3</td><td>raj</td><td>Hyderabad</td><td>2024-06-02</td></tr><tr><td>1</td><td>ravi</td><td>hyderabad</td><td>2024-06-04</td></tr><tr><td>2</td><td>raj</td><td>bangalore</td><td>2024-06-01</td></tr><tr><td>1</td><td>ravi</td><td>chenai</td><td>2024-06-03</td></tr><tr><td>5</td><td>mahesh</td><td>chennai</td><td>2024-06-09</td></tr><tr><td>4</td><td>prasad</td><td>Hyderabad</td><td>2024-06-05</td></tr><tr><td>4</td><td>prasad</td><td>bangalore</td><td>2024-06-02</td></tr></tbody></table></div>"
      ]
     },
     "metadata": {
      "application/vnd.databricks.v1+output": {
       "addedWidgets": {},
       "aggData": [],
       "aggError": "",
       "aggOverflow": false,
       "aggSchema": [],
       "aggSeriesLimitReached": false,
       "aggType": "",
       "arguments": {},
       "columnCustomDisplayInfos": {},
       "data": [
        [
         2,
         "raj",
         "chennai",
         "2024-06-05"
        ],
        [
         1,
         "ravi",
         "bangalore",
         "2024-06-02"
        ],
        [
         3,
         "raj",
         "Hyderabad",
         "2024-06-02"
        ],
        [
         1,
         "ravi",
         "hyderabad",
         "2024-06-04"
        ],
        [
         2,
         "raj",
         "bangalore",
         "2024-06-01"
        ],
        [
         1,
         "ravi",
         "chenai",
         "2024-06-03"
        ],
        [
         5,
         "mahesh",
         "chennai",
         "2024-06-09"
        ],
        [
         4,
         "prasad",
         "Hyderabad",
         "2024-06-05"
        ],
        [
         4,
         "prasad",
         "bangalore",
         "2024-06-02"
        ]
       ],
       "datasetInfos": [],
       "dbfsResultPath": null,
       "isJsonSchema": true,
       "metadata": {},
       "overflow": false,
       "plotOptions": {
        "customPlotOptions": {},
        "displayType": "table",
        "pivotAggregation": null,
        "pivotColumns": null,
        "xColumns": null,
        "yColumns": null
       },
       "removedWidgets": [],
       "schema": [
        {
         "metadata": "{}",
         "name": "id",
         "type": "\"integer\""
        },
        {
         "metadata": "{}",
         "name": "name",
         "type": "\"string\""
        },
        {
         "metadata": "{}",
         "name": "loc",
         "type": "\"string\""
        },
        {
         "metadata": "{\"__detected_date_formats\":\"yyyy-M-d\"}",
         "name": "updated_date",
         "type": "\"date\""
        }
       ],
       "type": "table"
      }
     },
     "output_type": "display_data"
    }
   ],
   "source": [
    "display(df.dropDuplicates())"
   ]
  },
  {
   "cell_type": "code",
   "execution_count": 0,
   "metadata": {
    "application/vnd.databricks.v1+cell": {
     "cellMetadata": {
      "byteLimit": 2048000,
      "rowLimit": 10000
     },
     "inputWidgets": {},
     "nuid": "65c7e802-1806-440e-bbc2-cb8c638a9fee",
     "showTitle": false,
     "title": ""
    }
   },
   "outputs": [
    {
     "output_type": "display_data",
     "data": {
      "text/html": [
       "<style scoped>\n",
       "  .table-result-container {\n",
       "    max-height: 300px;\n",
       "    overflow: auto;\n",
       "  }\n",
       "  table, th, td {\n",
       "    border: 1px solid black;\n",
       "    border-collapse: collapse;\n",
       "  }\n",
       "  th, td {\n",
       "    padding: 5px;\n",
       "  }\n",
       "  th {\n",
       "    text-align: left;\n",
       "  }\n",
       "</style><div class='table-result-container'><table class='table-result'><thead style='background-color: white'><tr><th>id</th><th>name</th><th>loc</th><th>updated_date</th></tr></thead><tbody><tr><td>1</td><td>ravi</td><td>bangalore</td><td>2024-06-02</td></tr><tr><td>2</td><td>raj</td><td>bangalore</td><td>2024-06-01</td></tr><tr><td>3</td><td>raj</td><td>Hyderabad</td><td>2024-06-02</td></tr><tr><td>4</td><td>prasad</td><td>bangalore</td><td>2024-06-02</td></tr><tr><td>5</td><td>mahesh</td><td>chennai</td><td>2024-06-09</td></tr></tbody></table></div>"
      ]
     },
     "metadata": {
      "application/vnd.databricks.v1+output": {
       "addedWidgets": {},
       "aggData": [],
       "aggError": "",
       "aggOverflow": false,
       "aggSchema": [],
       "aggSeriesLimitReached": false,
       "aggType": "",
       "arguments": {},
       "columnCustomDisplayInfos": {},
       "data": [
        [
         1,
         "ravi",
         "bangalore",
         "2024-06-02"
        ],
        [
         2,
         "raj",
         "bangalore",
         "2024-06-01"
        ],
        [
         3,
         "raj",
         "Hyderabad",
         "2024-06-02"
        ],
        [
         4,
         "prasad",
         "bangalore",
         "2024-06-02"
        ],
        [
         5,
         "mahesh",
         "chennai",
         "2024-06-09"
        ]
       ],
       "datasetInfos": [],
       "dbfsResultPath": null,
       "isJsonSchema": true,
       "metadata": {},
       "overflow": false,
       "plotOptions": {
        "customPlotOptions": {},
        "displayType": "table",
        "pivotAggregation": null,
        "pivotColumns": null,
        "xColumns": null,
        "yColumns": null
       },
       "removedWidgets": [],
       "schema": [
        {
         "metadata": "{}",
         "name": "id",
         "type": "\"integer\""
        },
        {
         "metadata": "{}",
         "name": "name",
         "type": "\"string\""
        },
        {
         "metadata": "{}",
         "name": "loc",
         "type": "\"string\""
        },
        {
         "metadata": "{\"__detected_date_formats\":\"yyyy-M-d\"}",
         "name": "updated_date",
         "type": "\"date\""
        }
       ],
       "type": "table"
      }
     },
     "output_type": "display_data"
    }
   ],
   "source": [
    "# dropduplicates(),distict() dont work here\n",
    "# so remove duplicates on column basis, sort the data based on updated date column\n",
    "\n",
    "\n",
    "\n",
    "display(df.dropDuplicates([\"id\"]))\n",
    "\n"
   ]
  },
  {
   "cell_type": "code",
   "execution_count": 0,
   "metadata": {
    "application/vnd.databricks.v1+cell": {
     "cellMetadata": {
      "byteLimit": 2048000,
      "rowLimit": 10000
     },
     "inputWidgets": {},
     "nuid": "1a0b448d-4ba4-49ba-a0b8-cab19209f00e",
     "showTitle": false,
     "title": ""
    }
   },
   "outputs": [
    {
     "output_type": "display_data",
     "data": {
      "text/html": [
       "<style scoped>\n",
       "  .table-result-container {\n",
       "    max-height: 300px;\n",
       "    overflow: auto;\n",
       "  }\n",
       "  table, th, td {\n",
       "    border: 1px solid black;\n",
       "    border-collapse: collapse;\n",
       "  }\n",
       "  th, td {\n",
       "    padding: 5px;\n",
       "  }\n",
       "  th {\n",
       "    text-align: left;\n",
       "  }\n",
       "</style><div class='table-result-container'><table class='table-result'><thead style='background-color: white'><tr><th>id</th><th>name</th><th>loc</th><th>updated_date</th></tr></thead><tbody><tr><td>1</td><td>ravi</td><td>hyderabad</td><td>2024-06-04</td></tr><tr><td>2</td><td>raj</td><td>chennai</td><td>2024-06-05</td></tr><tr><td>3</td><td>raj</td><td>Hyderabad</td><td>2024-06-02</td></tr><tr><td>4</td><td>prasad</td><td>Hyderabad</td><td>2024-06-05</td></tr><tr><td>5</td><td>mahesh</td><td>chennai</td><td>2024-06-09</td></tr></tbody></table></div>"
      ]
     },
     "metadata": {
      "application/vnd.databricks.v1+output": {
       "addedWidgets": {},
       "aggData": [],
       "aggError": "",
       "aggOverflow": false,
       "aggSchema": [],
       "aggSeriesLimitReached": false,
       "aggType": "",
       "arguments": {},
       "columnCustomDisplayInfos": {},
       "data": [
        [
         1,
         "ravi",
         "hyderabad",
         "2024-06-04"
        ],
        [
         2,
         "raj",
         "chennai",
         "2024-06-05"
        ],
        [
         3,
         "raj",
         "Hyderabad",
         "2024-06-02"
        ],
        [
         4,
         "prasad",
         "Hyderabad",
         "2024-06-05"
        ],
        [
         5,
         "mahesh",
         "chennai",
         "2024-06-09"
        ]
       ],
       "datasetInfos": [],
       "dbfsResultPath": null,
       "isJsonSchema": true,
       "metadata": {},
       "overflow": false,
       "plotOptions": {
        "customPlotOptions": {},
        "displayType": "table",
        "pivotAggregation": null,
        "pivotColumns": null,
        "xColumns": null,
        "yColumns": null
       },
       "removedWidgets": [],
       "schema": [
        {
         "metadata": "{}",
         "name": "id",
         "type": "\"integer\""
        },
        {
         "metadata": "{}",
         "name": "name",
         "type": "\"string\""
        },
        {
         "metadata": "{}",
         "name": "loc",
         "type": "\"string\""
        },
        {
         "metadata": "{\"__detected_date_formats\":\"yyyy-M-d\"}",
         "name": "updated_date",
         "type": "\"date\""
        }
       ],
       "type": "table"
      }
     },
     "output_type": "display_data"
    }
   ],
   "source": [
    "from pyspark.sql.functions import col\n",
    "\n",
    "display(df.orderBy(col(\"updated_date\").desc()).dropDuplicates([\"id\"]))"
   ]
  },
  {
   "cell_type": "code",
   "execution_count": 0,
   "metadata": {
    "application/vnd.databricks.v1+cell": {
     "cellMetadata": {
      "byteLimit": 2048000,
      "rowLimit": 10000
     },
     "inputWidgets": {},
     "nuid": "93ea11fa-9eee-45d3-9fd5-4d41557e8926",
     "showTitle": false,
     "title": ""
    }
   },
   "outputs": [],
   "source": [
    "# using window function with row_number()\n",
    "\n",
    "\n",
    "from pyspark.sql.window import Window\n",
    "from pyspark.sql.functions import *\n",
    "\n",
    "df = df.withColumn(\"row_id\",row_number().over(Window.partitionBy(\"id\").orderBy(col(\"updated_date\").desc())))"
   ]
  },
  {
   "cell_type": "code",
   "execution_count": 0,
   "metadata": {
    "application/vnd.databricks.v1+cell": {
     "cellMetadata": {
      "byteLimit": 2048000,
      "rowLimit": 10000
     },
     "inputWidgets": {},
     "nuid": "c016049a-ed50-4305-9754-cde31a0ad874",
     "showTitle": false,
     "title": ""
    }
   },
   "outputs": [
    {
     "output_type": "display_data",
     "data": {
      "text/html": [
       "<style scoped>\n",
       "  .table-result-container {\n",
       "    max-height: 300px;\n",
       "    overflow: auto;\n",
       "  }\n",
       "  table, th, td {\n",
       "    border: 1px solid black;\n",
       "    border-collapse: collapse;\n",
       "  }\n",
       "  th, td {\n",
       "    padding: 5px;\n",
       "  }\n",
       "  th {\n",
       "    text-align: left;\n",
       "  }\n",
       "</style><div class='table-result-container'><table class='table-result'><thead style='background-color: white'><tr><th>id</th><th>name</th><th>loc</th><th>updated_date</th><th>row_id</th></tr></thead><tbody><tr><td>1</td><td>ravi</td><td>hyderabad</td><td>2024-06-04</td><td>1</td></tr><tr><td>1</td><td>ravi</td><td>chenai</td><td>2024-06-03</td><td>2</td></tr><tr><td>1</td><td>ravi</td><td>bangalore</td><td>2024-06-02</td><td>3</td></tr><tr><td>2</td><td>raj</td><td>chennai</td><td>2024-06-05</td><td>1</td></tr><tr><td>2</td><td>raj</td><td>bangalore</td><td>2024-06-01</td><td>2</td></tr><tr><td>3</td><td>raj</td><td>Hyderabad</td><td>2024-06-02</td><td>1</td></tr><tr><td>4</td><td>prasad</td><td>Hyderabad</td><td>2024-06-05</td><td>1</td></tr><tr><td>4</td><td>prasad</td><td>bangalore</td><td>2024-06-02</td><td>2</td></tr><tr><td>5</td><td>mahesh</td><td>chennai</td><td>2024-06-09</td><td>1</td></tr></tbody></table></div>"
      ]
     },
     "metadata": {
      "application/vnd.databricks.v1+output": {
       "addedWidgets": {},
       "aggData": [],
       "aggError": "",
       "aggOverflow": false,
       "aggSchema": [],
       "aggSeriesLimitReached": false,
       "aggType": "",
       "arguments": {},
       "columnCustomDisplayInfos": {},
       "data": [
        [
         1,
         "ravi",
         "hyderabad",
         "2024-06-04",
         1
        ],
        [
         1,
         "ravi",
         "chenai",
         "2024-06-03",
         2
        ],
        [
         1,
         "ravi",
         "bangalore",
         "2024-06-02",
         3
        ],
        [
         2,
         "raj",
         "chennai",
         "2024-06-05",
         1
        ],
        [
         2,
         "raj",
         "bangalore",
         "2024-06-01",
         2
        ],
        [
         3,
         "raj",
         "Hyderabad",
         "2024-06-02",
         1
        ],
        [
         4,
         "prasad",
         "Hyderabad",
         "2024-06-05",
         1
        ],
        [
         4,
         "prasad",
         "bangalore",
         "2024-06-02",
         2
        ],
        [
         5,
         "mahesh",
         "chennai",
         "2024-06-09",
         1
        ]
       ],
       "datasetInfos": [],
       "dbfsResultPath": null,
       "isJsonSchema": true,
       "metadata": {},
       "overflow": false,
       "plotOptions": {
        "customPlotOptions": {},
        "displayType": "table",
        "pivotAggregation": null,
        "pivotColumns": null,
        "xColumns": null,
        "yColumns": null
       },
       "removedWidgets": [],
       "schema": [
        {
         "metadata": "{}",
         "name": "id",
         "type": "\"integer\""
        },
        {
         "metadata": "{}",
         "name": "name",
         "type": "\"string\""
        },
        {
         "metadata": "{}",
         "name": "loc",
         "type": "\"string\""
        },
        {
         "metadata": "{\"__detected_date_formats\":\"yyyy-M-d\"}",
         "name": "updated_date",
         "type": "\"date\""
        },
        {
         "metadata": "{}",
         "name": "row_id",
         "type": "\"integer\""
        }
       ],
       "type": "table"
      }
     },
     "output_type": "display_data"
    }
   ],
   "source": [
    "display(df)"
   ]
  },
  {
   "cell_type": "code",
   "execution_count": 0,
   "metadata": {
    "application/vnd.databricks.v1+cell": {
     "cellMetadata": {
      "byteLimit": 2048000,
      "rowLimit": 10000
     },
     "inputWidgets": {},
     "nuid": "84ebccf2-00b4-42a0-9b94-492355ff6fb4",
     "showTitle": false,
     "title": ""
    }
   },
   "outputs": [],
   "source": [
    "df_unique = df.filter(\"row_id=1\")"
   ]
  },
  {
   "cell_type": "code",
   "execution_count": 0,
   "metadata": {
    "application/vnd.databricks.v1+cell": {
     "cellMetadata": {
      "byteLimit": 2048000,
      "rowLimit": 10000
     },
     "inputWidgets": {},
     "nuid": "80e5aead-23ba-44f9-bf7a-e3b076db3bf5",
     "showTitle": false,
     "title": ""
    }
   },
   "outputs": [],
   "source": [
    "df_baddata =  df.filter(\"row_id>1\")"
   ]
  },
  {
   "cell_type": "code",
   "execution_count": 0,
   "metadata": {
    "application/vnd.databricks.v1+cell": {
     "cellMetadata": {
      "byteLimit": 2048000,
      "rowLimit": 10000
     },
     "inputWidgets": {},
     "nuid": "8f16c83b-051c-462a-8fac-7d09cfda8d3f",
     "showTitle": false,
     "title": ""
    }
   },
   "outputs": [
    {
     "output_type": "display_data",
     "data": {
      "text/html": [
       "<style scoped>\n",
       "  .table-result-container {\n",
       "    max-height: 300px;\n",
       "    overflow: auto;\n",
       "  }\n",
       "  table, th, td {\n",
       "    border: 1px solid black;\n",
       "    border-collapse: collapse;\n",
       "  }\n",
       "  th, td {\n",
       "    padding: 5px;\n",
       "  }\n",
       "  th {\n",
       "    text-align: left;\n",
       "  }\n",
       "</style><div class='table-result-container'><table class='table-result'><thead style='background-color: white'><tr><th>id</th><th>name</th><th>loc</th><th>updated_date</th><th>row_id</th></tr></thead><tbody><tr><td>1</td><td>ravi</td><td>chenai</td><td>2024-06-03</td><td>2</td></tr><tr><td>1</td><td>ravi</td><td>bangalore</td><td>2024-06-02</td><td>3</td></tr><tr><td>2</td><td>raj</td><td>bangalore</td><td>2024-06-01</td><td>2</td></tr><tr><td>4</td><td>prasad</td><td>bangalore</td><td>2024-06-02</td><td>2</td></tr></tbody></table></div>"
      ]
     },
     "metadata": {
      "application/vnd.databricks.v1+output": {
       "addedWidgets": {},
       "aggData": [],
       "aggError": "",
       "aggOverflow": false,
       "aggSchema": [],
       "aggSeriesLimitReached": false,
       "aggType": "",
       "arguments": {},
       "columnCustomDisplayInfos": {},
       "data": [
        [
         1,
         "ravi",
         "chenai",
         "2024-06-03",
         2
        ],
        [
         1,
         "ravi",
         "bangalore",
         "2024-06-02",
         3
        ],
        [
         2,
         "raj",
         "bangalore",
         "2024-06-01",
         2
        ],
        [
         4,
         "prasad",
         "bangalore",
         "2024-06-02",
         2
        ]
       ],
       "datasetInfos": [],
       "dbfsResultPath": null,
       "isJsonSchema": true,
       "metadata": {},
       "overflow": false,
       "plotOptions": {
        "customPlotOptions": {},
        "displayType": "table",
        "pivotAggregation": null,
        "pivotColumns": null,
        "xColumns": null,
        "yColumns": null
       },
       "removedWidgets": [],
       "schema": [
        {
         "metadata": "{}",
         "name": "id",
         "type": "\"integer\""
        },
        {
         "metadata": "{}",
         "name": "name",
         "type": "\"string\""
        },
        {
         "metadata": "{}",
         "name": "loc",
         "type": "\"string\""
        },
        {
         "metadata": "{\"__detected_date_formats\":\"yyyy-M-d\"}",
         "name": "updated_date",
         "type": "\"date\""
        },
        {
         "metadata": "{}",
         "name": "row_id",
         "type": "\"integer\""
        }
       ],
       "type": "table"
      }
     },
     "output_type": "display_data"
    }
   ],
   "source": [
    "display(df_baddata)"
   ]
  },
  {
   "cell_type": "code",
   "execution_count": 0,
   "metadata": {
    "application/vnd.databricks.v1+cell": {
     "cellMetadata": {
      "byteLimit": 2048000,
      "rowLimit": 10000
     },
     "inputWidgets": {},
     "nuid": "a19b8741-abbd-47e2-8a47-3106aeef527c",
     "showTitle": false,
     "title": ""
    }
   },
   "outputs": [
    {
     "output_type": "display_data",
     "data": {
      "text/html": [
       "<style scoped>\n",
       "  .table-result-container {\n",
       "    max-height: 300px;\n",
       "    overflow: auto;\n",
       "  }\n",
       "  table, th, td {\n",
       "    border: 1px solid black;\n",
       "    border-collapse: collapse;\n",
       "  }\n",
       "  th, td {\n",
       "    padding: 5px;\n",
       "  }\n",
       "  th {\n",
       "    text-align: left;\n",
       "  }\n",
       "</style><div class='table-result-container'><table class='table-result'><thead style='background-color: white'><tr><th>id</th><th>name</th><th>loc</th><th>updated_date</th><th>row_id</th></tr></thead><tbody><tr><td>1</td><td>ravi</td><td>hyderabad</td><td>2024-06-04</td><td>1</td></tr><tr><td>2</td><td>raj</td><td>chennai</td><td>2024-06-05</td><td>1</td></tr><tr><td>3</td><td>raj</td><td>Hyderabad</td><td>2024-06-02</td><td>1</td></tr><tr><td>4</td><td>prasad</td><td>Hyderabad</td><td>2024-06-05</td><td>1</td></tr><tr><td>5</td><td>mahesh</td><td>chennai</td><td>2024-06-09</td><td>1</td></tr></tbody></table></div>"
      ]
     },
     "metadata": {
      "application/vnd.databricks.v1+output": {
       "addedWidgets": {},
       "aggData": [],
       "aggError": "",
       "aggOverflow": false,
       "aggSchema": [],
       "aggSeriesLimitReached": false,
       "aggType": "",
       "arguments": {},
       "columnCustomDisplayInfos": {},
       "data": [
        [
         1,
         "ravi",
         "hyderabad",
         "2024-06-04",
         1
        ],
        [
         2,
         "raj",
         "chennai",
         "2024-06-05",
         1
        ],
        [
         3,
         "raj",
         "Hyderabad",
         "2024-06-02",
         1
        ],
        [
         4,
         "prasad",
         "Hyderabad",
         "2024-06-05",
         1
        ],
        [
         5,
         "mahesh",
         "chennai",
         "2024-06-09",
         1
        ]
       ],
       "datasetInfos": [],
       "dbfsResultPath": null,
       "isJsonSchema": true,
       "metadata": {},
       "overflow": false,
       "plotOptions": {
        "customPlotOptions": {},
        "displayType": "table",
        "pivotAggregation": null,
        "pivotColumns": null,
        "xColumns": null,
        "yColumns": null
       },
       "removedWidgets": [],
       "schema": [
        {
         "metadata": "{}",
         "name": "id",
         "type": "\"integer\""
        },
        {
         "metadata": "{}",
         "name": "name",
         "type": "\"string\""
        },
        {
         "metadata": "{}",
         "name": "loc",
         "type": "\"string\""
        },
        {
         "metadata": "{\"__detected_date_formats\":\"yyyy-M-d\"}",
         "name": "updated_date",
         "type": "\"date\""
        },
        {
         "metadata": "{}",
         "name": "row_id",
         "type": "\"integer\""
        }
       ],
       "type": "table"
      }
     },
     "output_type": "display_data"
    }
   ],
   "source": [
    "display(df_unique)"
   ]
  },
  {
   "cell_type": "code",
   "execution_count": 0,
   "metadata": {
    "application/vnd.databricks.v1+cell": {
     "cellMetadata": {},
     "inputWidgets": {},
     "nuid": "acac448a-64b8-45c2-a4c7-ffc4acf4de26",
     "showTitle": false,
     "title": ""
    }
   },
   "outputs": [],
   "source": []
  }
 ],
 "metadata": {
  "application/vnd.databricks.v1+notebook": {
   "dashboards": [],
   "environmentMetadata": null,
   "language": "python",
   "notebookMetadata": {
    "pythonIndentUnit": 4
   },
   "notebookName": "How to remove duplicate rows",
   "widgets": {}
  }
 },
 "nbformat": 4,
 "nbformat_minor": 0
}
