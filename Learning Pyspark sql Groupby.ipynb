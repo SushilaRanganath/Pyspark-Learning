{
 "cells": [
  {
   "cell_type": "code",
   "execution_count": 0,
   "metadata": {
    "application/vnd.databricks.v1+cell": {
     "cellMetadata": {
      "byteLimit": 2048000,
      "rowLimit": 10000
     },
     "inputWidgets": {},
     "nuid": "bf976115-0e75-42a8-80d5-f505dcc42d40",
     "showTitle": false,
     "title": ""
    }
   },
   "outputs": [],
   "source": [
    "df = spark.createDataFrame(\n",
    "     [(2, \"Alice\"), (3, \"Alice\"), (5, \"Bob\"), (10, \"Bob\")], [\"age\", \"name\"])"
   ]
  },
  {
   "cell_type": "code",
   "execution_count": 0,
   "metadata": {
    "application/vnd.databricks.v1+cell": {
     "cellMetadata": {
      "byteLimit": 2048000,
      "rowLimit": 10000
     },
     "inputWidgets": {},
     "nuid": "bb2cc988-de75-41af-a843-c77b4270d35e",
     "showTitle": false,
     "title": ""
    }
   },
   "outputs": [
    {
     "output_type": "stream",
     "name": "stdout",
     "output_type": "stream",
     "text": [
      "+---+-----+\n|age| name|\n+---+-----+\n|  2|Alice|\n|  3|Alice|\n|  5|  Bob|\n| 10|  Bob|\n+---+-----+\n\n"
     ]
    }
   ],
   "source": [
    "df.show()"
   ]
  },
  {
   "cell_type": "code",
   "execution_count": 0,
   "metadata": {
    "application/vnd.databricks.v1+cell": {
     "cellMetadata": {
      "byteLimit": 2048000,
      "rowLimit": 10000
     },
     "inputWidgets": {},
     "nuid": "c2e69953-4e01-462a-88e5-028b3688bfde",
     "showTitle": false,
     "title": ""
    }
   },
   "outputs": [
    {
     "output_type": "stream",
     "name": "stdout",
     "output_type": "stream",
     "text": [
      "+-----+--------+\n| name|count(1)|\n+-----+--------+\n|Alice|       2|\n|  Bob|       2|\n+-----+--------+\n\n"
     ]
    }
   ],
   "source": [
    "# Group-by name, and count each group.\n",
    "\n",
    "df.groupBy(df.name).agg({\"*\": \"count\"}).sort(\"name\").show()\n"
   ]
  },
  {
   "cell_type": "code",
   "execution_count": 0,
   "metadata": {
    "application/vnd.databricks.v1+cell": {
     "cellMetadata": {
      "byteLimit": 2048000,
      "rowLimit": 10000
     },
     "inputWidgets": {},
     "nuid": "bbdf9932-8f51-4dc9-bb3b-a8cbee96326d",
     "showTitle": false,
     "title": ""
    }
   },
   "outputs": [],
   "source": [
    "from pyspark.sql import functions as sf\n"
   ]
  },
  {
   "cell_type": "code",
   "execution_count": 0,
   "metadata": {
    "application/vnd.databricks.v1+cell": {
     "cellMetadata": {
      "byteLimit": 2048000,
      "rowLimit": 10000
     },
     "inputWidgets": {},
     "nuid": "52ebeef8-cce8-4ec2-8ad4-4067ea087b62",
     "showTitle": false,
     "title": ""
    }
   },
   "outputs": [
    {
     "output_type": "stream",
     "name": "stdout",
     "output_type": "stream",
     "text": [
      "+-----+--------+\n| name|min(age)|\n+-----+--------+\n|Alice|       2|\n|  Bob|       5|\n+-----+--------+\n\n"
     ]
    }
   ],
   "source": [
    "#Group-by name, and calculate the minimum age.\n",
    "\n",
    "df.groupBy(df.name).agg(sf.min(df.age)).sort(\"name\").show()\n",
    "\n"
   ]
  },
  {
   "cell_type": "code",
   "execution_count": 0,
   "metadata": {
    "application/vnd.databricks.v1+cell": {
     "cellMetadata": {
      "byteLimit": 2048000,
      "rowLimit": 10000
     },
     "inputWidgets": {},
     "nuid": "70f54722-f8ae-47bc-9082-593def71b057",
     "showTitle": false,
     "title": ""
    }
   },
   "outputs": [
    {
     "output_type": "stream",
     "name": "stdout",
     "output_type": "stream",
     "text": [
      "+---+-----+------+\n|age| name|height|\n+---+-----+------+\n|  2|Alice|    80|\n|  3|Alice|   100|\n|  5|  Bob|   120|\n| 10|  Bob|   140|\n+---+-----+------+\n\n"
     ]
    }
   ],
   "source": [
    "df1 = spark.createDataFrame([\n",
    "    (2, \"Alice\", 80), (3, \"Alice\", 100),\n",
    "    (5, \"Bob\", 120), (10, \"Bob\", 140)], [\"age\", \"name\", \"height\"])\n",
    "df1.show()"
   ]
  },
  {
   "cell_type": "code",
   "execution_count": 0,
   "metadata": {
    "application/vnd.databricks.v1+cell": {
     "cellMetadata": {
      "byteLimit": 2048000,
      "rowLimit": 10000
     },
     "inputWidgets": {},
     "nuid": "701b93c7-6cc4-4ca8-9aad-c7889d9d42c3",
     "showTitle": false,
     "title": ""
    }
   },
   "outputs": [
    {
     "output_type": "stream",
     "name": "stdout",
     "output_type": "stream",
     "text": [
      "+-----+--------+\n| name|sum(age)|\n+-----+--------+\n|Alice|       5|\n|  Bob|      15|\n+-----+--------+\n\n"
     ]
    }
   ],
   "source": [
    "#Group-by name, and calculate the sum of the age in each group.\n",
    "\n",
    "df.groupBy(\"name\").sum(\"age\").sort(\"name\").show()\n"
   ]
  },
  {
   "cell_type": "code",
   "execution_count": 0,
   "metadata": {
    "application/vnd.databricks.v1+cell": {
     "cellMetadata": {
      "byteLimit": 2048000,
      "rowLimit": 10000
     },
     "inputWidgets": {},
     "nuid": "f551c1a8-57d9-49ec-8bc2-e8d91f6b3f22",
     "showTitle": false,
     "title": ""
    }
   },
   "outputs": [
    {
     "output_type": "stream",
     "name": "stdout",
     "output_type": "stream",
     "text": [
      "+--------+-----------+\n|sum(age)|sum(height)|\n+--------+-----------+\n|      20|        440|\n+--------+-----------+\n\n"
     ]
    }
   ],
   "source": [
    "#Calculate the sum of the age and height in all data.\n",
    "\n",
    "\n",
    "df1.groupBy().sum(\"age\", \"height\").show()\n"
   ]
  },
  {
   "cell_type": "code",
   "execution_count": 0,
   "metadata": {
    "application/vnd.databricks.v1+cell": {
     "cellMetadata": {
      "byteLimit": 2048000,
      "rowLimit": 10000
     },
     "inputWidgets": {},
     "nuid": "2b61bd43-0a9b-417e-b30b-4f2842df6fa1",
     "showTitle": false,
     "title": ""
    }
   },
   "outputs": [
    {
     "output_type": "stream",
     "name": "stdout",
     "output_type": "stream",
     "text": [
      "+-----+--------+\n| name|avg(age)|\n+-----+--------+\n|Alice|     2.5|\n|  Bob|     7.5|\n+-----+--------+\n\n"
     ]
    }
   ],
   "source": [
    "#Group-by name, and calculate the mean of the age in each group.\n",
    "\n",
    "df1.groupBy(\"name\").avg('age').sort(\"name\").show()\n"
   ]
  },
  {
   "cell_type": "code",
   "execution_count": 0,
   "metadata": {
    "application/vnd.databricks.v1+cell": {
     "cellMetadata": {
      "byteLimit": 2048000,
      "rowLimit": 10000
     },
     "inputWidgets": {},
     "nuid": "a92748aa-6720-4b5c-8754-8ab78c3551bc",
     "showTitle": false,
     "title": ""
    }
   },
   "outputs": [
    {
     "output_type": "stream",
     "name": "stdout",
     "output_type": "stream",
     "text": [
      "+--------+-----------+\n|avg(age)|avg(height)|\n+--------+-----------+\n|     5.0|      110.0|\n+--------+-----------+\n\n"
     ]
    }
   ],
   "source": [
    "#Calculate the mean of the age and height in all data.\n",
    "\n",
    "df1.groupBy().avg('age', 'height').show()\n"
   ]
  },
  {
   "cell_type": "code",
   "execution_count": 0,
   "metadata": {
    "application/vnd.databricks.v1+cell": {
     "cellMetadata": {},
     "inputWidgets": {},
     "nuid": "a4f1508e-cf18-44d0-9fac-66fb48fdea09",
     "showTitle": false,
     "title": ""
    }
   },
   "outputs": [],
   "source": []
  }
 ],
 "metadata": {
  "application/vnd.databricks.v1+notebook": {
   "dashboards": [],
   "environmentMetadata": null,
   "language": "python",
   "notebookMetadata": {
    "pythonIndentUnit": 4
   },
   "notebookName": "Learning Pyspark sql Groupby",
   "widgets": {}
  }
 },
 "nbformat": 4,
 "nbformat_minor": 0
}
