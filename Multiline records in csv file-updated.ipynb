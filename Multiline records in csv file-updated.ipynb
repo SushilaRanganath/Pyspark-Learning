{
 "cells": [
  {
   "cell_type": "code",
   "execution_count": 0,
   "metadata": {
    "application/vnd.databricks.v1+cell": {
     "cellMetadata": {
      "byteLimit": 2048000,
      "rowLimit": 10000
     },
     "inputWidgets": {},
     "nuid": "3b16a585-dd03-471a-8c25-5b22fcc79ed9",
     "showTitle": false,
     "title": ""
    }
   },
   "outputs": [],
   "source": [
    "# handlining multiline records in csv file\n",
    "# define schema\n",
    "from pyspark.sql.types import *\n",
    "schema = StructType([StructField(\"ID\",IntegerType(),True),\n",
    "                     StructField(\"Name\",StringType(),True),\n",
    "                     StructField(\"Description\",StringType(),True) \n",
    "                     ])\n",
    "\n",
    "\n"
   ]
  },
  {
   "cell_type": "code",
   "execution_count": 0,
   "metadata": {
    "application/vnd.databricks.v1+cell": {
     "cellMetadata": {
      "byteLimit": 2048000,
      "rowLimit": 10000
     },
     "inputWidgets": {},
     "nuid": "208ebe84-7bf8-42cf-92de-c88532a58f5b",
     "showTitle": false,
     "title": ""
    }
   },
   "outputs": [
    {
     "output_type": "display_data",
     "data": {
      "text/html": [
       "<style scoped>\n",
       "  .table-result-container {\n",
       "    max-height: 300px;\n",
       "    overflow: auto;\n",
       "  }\n",
       "  table, th, td {\n",
       "    border: 1px solid black;\n",
       "    border-collapse: collapse;\n",
       "  }\n",
       "  th, td {\n",
       "    padding: 5px;\n",
       "  }\n",
       "  th {\n",
       "    text-align: left;\n",
       "  }\n",
       "</style><div class='table-result-container'><table class='table-result'><thead style='background-color: white'><tr><th>ID</th><th>Name</th><th>Description</th></tr></thead><tbody><tr><td>null</td><td>Name</td><td>Description</td></tr><tr><td>1</td><td>Apple</td><td>A red fruit\n",
       "</td></tr><tr><td>null</td><td>null</td><td>null</td></tr><tr><td>null</td><td>null</td><td>null</td></tr><tr><td>2</td><td>Banana</td><td>A yellow fruit\n",
       "</td></tr><tr><td>null</td><td>null</td><td>null</td></tr><tr><td>null</td><td>null</td><td>null</td></tr><tr><td>3</td><td>Cherry</td><td>A small red fruit\n",
       "</td></tr><tr><td>null</td><td>null</td><td>null</td></tr><tr><td>null</td><td>null</td><td>null</td></tr></tbody></table></div>"
      ]
     },
     "metadata": {
      "application/vnd.databricks.v1+output": {
       "addedWidgets": {},
       "aggData": [],
       "aggError": "",
       "aggOverflow": false,
       "aggSchema": [],
       "aggSeriesLimitReached": false,
       "aggType": "",
       "arguments": {},
       "columnCustomDisplayInfos": {},
       "data": [
        [
         null,
         "Name",
         "Description"
        ],
        [
         1,
         "Apple",
         "A red fruit\n"
        ],
        [
         null,
         null,
         null
        ],
        [
         null,
         null,
         null
        ],
        [
         2,
         "Banana",
         "A yellow fruit\n"
        ],
        [
         null,
         null,
         null
        ],
        [
         null,
         null,
         null
        ],
        [
         3,
         "Cherry",
         "A small red fruit\n"
        ],
        [
         null,
         null,
         null
        ],
        [
         null,
         null,
         null
        ]
       ],
       "datasetInfos": [],
       "dbfsResultPath": null,
       "isJsonSchema": true,
       "metadata": {},
       "overflow": false,
       "plotOptions": {
        "customPlotOptions": {},
        "displayType": "table",
        "pivotAggregation": null,
        "pivotColumns": null,
        "xColumns": null,
        "yColumns": null
       },
       "removedWidgets": [],
       "schema": [
        {
         "metadata": "{}",
         "name": "ID",
         "type": "\"integer\""
        },
        {
         "metadata": "{}",
         "name": "Name",
         "type": "\"string\""
        },
        {
         "metadata": "{}",
         "name": "Description",
         "type": "\"string\""
        }
       ],
       "type": "table"
      }
     },
     "output_type": "display_data"
    }
   ],
   "source": [
    "df = spark.read.format(\"csv\").schema(schema).load(\"/FileStore/tables/multiline.csv\")\n",
    "\n",
    "display(df)\n"
   ]
  },
  {
   "cell_type": "code",
   "execution_count": 0,
   "metadata": {
    "application/vnd.databricks.v1+cell": {
     "cellMetadata": {},
     "inputWidgets": {},
     "nuid": "c5bd5fb5-7758-43da-ad3d-8e1b04a3eb23",
     "showTitle": false,
     "title": ""
    }
   },
   "outputs": [],
   "source": [
    "# in the above sample csv file, the descrption column was in multine,hence the complete description was trimmed and was showing as null records...which is not the correct data. Am rading the csv file with multiline True option."
   ]
  },
  {
   "cell_type": "code",
   "execution_count": 0,
   "metadata": {
    "application/vnd.databricks.v1+cell": {
     "cellMetadata": {
      "byteLimit": 2048000,
      "rowLimit": 10000
     },
     "inputWidgets": {},
     "nuid": "18de6afc-9189-4244-97ea-0b219d7efc98",
     "showTitle": false,
     "title": ""
    }
   },
   "outputs": [],
   "source": [
    "# Path to the CSV file\n",
    "csv_file_path = '/FileStore/tables/multiline.csv'\n",
    "\n",
    "# Read the multiline CSV file into a DataFrame\n",
    "df = spark.read.format(\"csv\") \\\n",
    "               .option(\"header\", \"true\") \\\n",
    "               .option(\"multiline\", \"true\") \\\n",
    "               .option(\"escape\", \"\\\"\") \\\n",
    "               .option(\"quote\", \"\\\"\") \\\n",
    "               .option(\"inferSchema\", \"true\") \\\n",
    "               .load(csv_file_path)"
   ]
  },
  {
   "cell_type": "code",
   "execution_count": 0,
   "metadata": {
    "application/vnd.databricks.v1+cell": {
     "cellMetadata": {
      "byteLimit": 2048000,
      "rowLimit": 10000
     },
     "inputWidgets": {},
     "nuid": "b7601dfe-124a-453d-aed2-a54a9af5c676",
     "showTitle": false,
     "title": ""
    }
   },
   "outputs": [
    {
     "output_type": "display_data",
     "data": {
      "text/html": [
       "<style scoped>\n",
       "  .table-result-container {\n",
       "    max-height: 300px;\n",
       "    overflow: auto;\n",
       "  }\n",
       "  table, th, td {\n",
       "    border: 1px solid black;\n",
       "    border-collapse: collapse;\n",
       "  }\n",
       "  th, td {\n",
       "    padding: 5px;\n",
       "  }\n",
       "  th {\n",
       "    text-align: left;\n",
       "  }\n",
       "</style><div class='table-result-container'><table class='table-result'><thead style='background-color: white'><tr><th>ID</th><th>Name</th><th>Description</th></tr></thead><tbody><tr><td>1</td><td>Apple</td><td>A red fruit\n",
       "that is sweet and\n",
       "crisp.</td></tr><tr><td>2</td><td>Banana</td><td>A yellow fruit\n",
       "that is soft and\n",
       "sweet.</td></tr><tr><td>3</td><td>Cherry</td><td>A small red fruit\n",
       "that is tart and\n",
       "juicy.</td></tr></tbody></table></div>"
      ]
     },
     "metadata": {
      "application/vnd.databricks.v1+output": {
       "addedWidgets": {},
       "aggData": [],
       "aggError": "",
       "aggOverflow": false,
       "aggSchema": [],
       "aggSeriesLimitReached": false,
       "aggType": "",
       "arguments": {},
       "columnCustomDisplayInfos": {},
       "data": [
        [
         1,
         "Apple",
         "A red fruit\nthat is sweet and\ncrisp."
        ],
        [
         2,
         "Banana",
         "A yellow fruit\nthat is soft and\nsweet."
        ],
        [
         3,
         "Cherry",
         "A small red fruit\nthat is tart and\njuicy."
        ]
       ],
       "datasetInfos": [],
       "dbfsResultPath": null,
       "isJsonSchema": true,
       "metadata": {},
       "overflow": false,
       "plotOptions": {
        "customPlotOptions": {},
        "displayType": "table",
        "pivotAggregation": null,
        "pivotColumns": null,
        "xColumns": null,
        "yColumns": null
       },
       "removedWidgets": [],
       "schema": [
        {
         "metadata": "{}",
         "name": "ID",
         "type": "\"integer\""
        },
        {
         "metadata": "{}",
         "name": "Name",
         "type": "\"string\""
        },
        {
         "metadata": "{}",
         "name": "Description",
         "type": "\"string\""
        }
       ],
       "type": "table"
      }
     },
     "output_type": "display_data"
    }
   ],
   "source": [
    "display(df)"
   ]
  },
  {
   "cell_type": "code",
   "execution_count": 0,
   "metadata": {
    "application/vnd.databricks.v1+cell": {
     "cellMetadata": {},
     "inputWidgets": {},
     "nuid": "2aacc227-dae6-4369-92f0-1857c95f5794",
     "showTitle": false,
     "title": ""
    }
   },
   "outputs": [],
   "source": [
    "#Path to the CSV file: Define the path to the CSV file.\n",
    "#Read the multiline CSV file into a DataFrame:\n",
    "#Use read.format(\"csv\") to specify that we are reading a CSV file.\n",
    "#Use the option method to set various options for reading the CSV file:\n",
    "#\"header\", \"true\": Indicates that the first line of the CSV file contains the header.\n",
    "#\"multiline\", \"true\": Enables reading multiline records.\n",
    "#\"escape\", \"\\\"\": Specifies the escape character to handle double quotes in the text.\n",
    "#\"quote\", \"\\\"\": Specifies the quote character.\n",
    "#\"inferSchema\", \"true\": Infers the schema of the DataFrame.\n",
    "#Use the load method to read the CSV file into a DataFrame.\n",
    "#Display the DataFrame: "
   ]
  },
  {
   "cell_type": "code",
   "execution_count": 0,
   "metadata": {
    "application/vnd.databricks.v1+cell": {
     "cellMetadata": {
      "byteLimit": 2048000,
      "rowLimit": 10000
     },
     "inputWidgets": {},
     "nuid": "f72eab60-6044-47ca-a2c1-ccb1dee9a5bb",
     "showTitle": false,
     "title": ""
    }
   },
   "outputs": [],
   "source": [
    "csv_file_path = '/FileStore/tables/Category.csv'\n",
    "\n",
    "# Read the multiline CSV file into a DataFrame\n",
    "new_df = spark.read.format(\"csv\") \\\n",
    "               .option(\"header\", \"true\") \\\n",
    "               .option(\"multiline\", \"true\") \\\n",
    "               .option(\"escape\", \"\\\"\") \\\n",
    "               .option(\"quote\", \"\\\"\") \\\n",
    "               .option(\"inferSchema\", \"true\") \\\n",
    "               .load(csv_file_path)"
   ]
  },
  {
   "cell_type": "code",
   "execution_count": 0,
   "metadata": {
    "application/vnd.databricks.v1+cell": {
     "cellMetadata": {
      "byteLimit": 2048000,
      "rowLimit": 10000
     },
     "inputWidgets": {},
     "nuid": "2e6fcff8-e19d-45e1-bd00-4cfc528fbf13",
     "showTitle": false,
     "title": ""
    }
   },
   "outputs": [
    {
     "output_type": "stream",
     "name": "stdout",
     "output_type": "stream",
     "text": [
      "+---+---------+\n| ID| Category|\n+---+---------+\n|  1|    Fruit|\n|  2|    Fruit|\n|  3|    Fruit|\n|  4|Vegetable|\n+---+---------+\n\n"
     ]
    }
   ],
   "source": [
    "new_df.show()"
   ]
  },
  {
   "cell_type": "code",
   "execution_count": 0,
   "metadata": {
    "application/vnd.databricks.v1+cell": {
     "cellMetadata": {
      "byteLimit": 2048000,
      "rowLimit": 10000
     },
     "inputWidgets": {},
     "nuid": "438e8ea1-8ea8-478e-a45a-ad4d99ae3740",
     "showTitle": false,
     "title": ""
    }
   },
   "outputs": [],
   "source": [
    "## Perform the join operation\n",
    "joined_df = df.join(new_df, on='ID', how='inner')"
   ]
  },
  {
   "cell_type": "code",
   "execution_count": 0,
   "metadata": {
    "application/vnd.databricks.v1+cell": {
     "cellMetadata": {
      "byteLimit": 2048000,
      "rowLimit": 10000
     },
     "inputWidgets": {},
     "nuid": "593df51c-cff4-4d7e-a83a-56de8e244a12",
     "showTitle": false,
     "title": ""
    }
   },
   "outputs": [
    {
     "output_type": "stream",
     "name": "stdout",
     "output_type": "stream",
     "text": [
      "+---+------+--------------------+--------+\n| ID|  Name|         Description|Category|\n+---+------+--------------------+--------+\n|  1| Apple|A red fruit\\nthat...|   Fruit|\n|  2|Banana|A yellow fruit\\nt...|   Fruit|\n|  3|Cherry|A small red fruit...|   Fruit|\n+---+------+--------------------+--------+\n\n"
     ]
    }
   ],
   "source": [
    "joined_df.show()"
   ]
  },
  {
   "cell_type": "code",
   "execution_count": 0,
   "metadata": {
    "application/vnd.databricks.v1+cell": {
     "cellMetadata": {
      "byteLimit": 2048000,
      "rowLimit": 10000
     },
     "inputWidgets": {},
     "nuid": "bad1a061-7cef-4b60-a282-ee20d08ff8bc",
     "showTitle": false,
     "title": ""
    }
   },
   "outputs": [
    {
     "output_type": "display_data",
     "data": {
      "text/html": [
       "<style scoped>\n",
       "  .table-result-container {\n",
       "    max-height: 300px;\n",
       "    overflow: auto;\n",
       "  }\n",
       "  table, th, td {\n",
       "    border: 1px solid black;\n",
       "    border-collapse: collapse;\n",
       "  }\n",
       "  th, td {\n",
       "    padding: 5px;\n",
       "  }\n",
       "  th {\n",
       "    text-align: left;\n",
       "  }\n",
       "</style><div class='table-result-container'><table class='table-result'><thead style='background-color: white'><tr><th>ID</th><th>Name</th><th>Description</th><th>Category</th></tr></thead><tbody><tr><td>1</td><td>Apple</td><td>A red fruit\n",
       "that is sweet and\n",
       "crisp.</td><td>Fruit</td></tr><tr><td>2</td><td>Banana</td><td>A yellow fruit\n",
       "that is soft and\n",
       "sweet.</td><td>Fruit</td></tr><tr><td>3</td><td>Cherry</td><td>A small red fruit\n",
       "that is tart and\n",
       "juicy.</td><td>Fruit</td></tr></tbody></table></div>"
      ]
     },
     "metadata": {
      "application/vnd.databricks.v1+output": {
       "addedWidgets": {},
       "aggData": [],
       "aggError": "",
       "aggOverflow": false,
       "aggSchema": [],
       "aggSeriesLimitReached": false,
       "aggType": "",
       "arguments": {},
       "columnCustomDisplayInfos": {},
       "data": [
        [
         1,
         "Apple",
         "A red fruit\nthat is sweet and\ncrisp.",
         "Fruit"
        ],
        [
         2,
         "Banana",
         "A yellow fruit\nthat is soft and\nsweet.",
         "Fruit"
        ],
        [
         3,
         "Cherry",
         "A small red fruit\nthat is tart and\njuicy.",
         "Fruit"
        ]
       ],
       "datasetInfos": [],
       "dbfsResultPath": null,
       "isJsonSchema": true,
       "metadata": {},
       "overflow": false,
       "plotOptions": {
        "customPlotOptions": {},
        "displayType": "table",
        "pivotAggregation": null,
        "pivotColumns": null,
        "xColumns": null,
        "yColumns": null
       },
       "removedWidgets": [],
       "schema": [
        {
         "metadata": "{}",
         "name": "ID",
         "type": "\"integer\""
        },
        {
         "metadata": "{}",
         "name": "Name",
         "type": "\"string\""
        },
        {
         "metadata": "{}",
         "name": "Description",
         "type": "\"string\""
        },
        {
         "metadata": "{}",
         "name": "Category",
         "type": "\"string\""
        }
       ],
       "type": "table"
      }
     },
     "output_type": "display_data"
    }
   ],
   "source": [
    "display(joined_df)"
   ]
  },
  {
   "cell_type": "code",
   "execution_count": 0,
   "metadata": {
    "application/vnd.databricks.v1+cell": {
     "cellMetadata": {
      "byteLimit": 2048000,
      "rowLimit": 10000
     },
     "inputWidgets": {},
     "nuid": "38c409fc-d89c-4e7f-bb0c-28c997a82e1b",
     "showTitle": false,
     "title": ""
    }
   },
   "outputs": [
    {
     "output_type": "stream",
     "name": "stdout",
     "output_type": "stream",
     "text": [
      "Full Outer Join:\n+---+------+-------------------------------------------+---------+\n|ID |Name  |Description                                |Category |\n+---+------+-------------------------------------------+---------+\n|1  |Apple |A red fruit\\nthat is sweet and\\ncrisp.     |Fruit    |\n|2  |Banana|A yellow fruit\\nthat is soft and\\nsweet.   |Fruit    |\n|3  |Cherry|A small red fruit\\nthat is tart and\\njuicy.|Fruit    |\n|4  |null  |null                                       |Vegetable|\n+---+------+-------------------------------------------+---------+\n\n"
     ]
    }
   ],
   "source": [
    "full_outer_join_df = df.join(new_df, on='ID', how='outer')\n",
    "print(\"Full Outer Join:\")\n",
    "full_outer_join_df.show(truncate=False)"
   ]
  },
  {
   "cell_type": "code",
   "execution_count": 0,
   "metadata": {
    "application/vnd.databricks.v1+cell": {
     "cellMetadata": {
      "byteLimit": 2048000,
      "rowLimit": 10000
     },
     "inputWidgets": {},
     "nuid": "6461aa68-7414-4089-a826-9c795ef31d53",
     "showTitle": false,
     "title": ""
    }
   },
   "outputs": [
    {
     "output_type": "stream",
     "name": "stdout",
     "output_type": "stream",
     "text": [
      "Right Join:\n+---+------+-------------------------------------------+---------+\n|ID |Name  |Description                                |Category |\n+---+------+-------------------------------------------+---------+\n|1  |Apple |A red fruit\\nthat is sweet and\\ncrisp.     |Fruit    |\n|2  |Banana|A yellow fruit\\nthat is soft and\\nsweet.   |Fruit    |\n|3  |Cherry|A small red fruit\\nthat is tart and\\njuicy.|Fruit    |\n|4  |null  |null                                       |Vegetable|\n+---+------+-------------------------------------------+---------+\n\n"
     ]
    }
   ],
   "source": [
    "# Right join\n",
    "right_join_df = df.join(new_df, on='ID', how='right')\n",
    "print(\"Right Join:\")\n",
    "right_join_df.show(truncate=False)"
   ]
  },
  {
   "cell_type": "code",
   "execution_count": 0,
   "metadata": {
    "application/vnd.databricks.v1+cell": {
     "cellMetadata": {
      "byteLimit": 2048000,
      "rowLimit": 10000
     },
     "inputWidgets": {},
     "nuid": "f380ef27-6a8c-4a24-9129-37f5672df41b",
     "showTitle": false,
     "title": ""
    }
   },
   "outputs": [],
   "source": [
    "from pyspark.sql.functions import col, length, upper, concat"
   ]
  },
  {
   "cell_type": "code",
   "execution_count": 0,
   "metadata": {
    "application/vnd.databricks.v1+cell": {
     "cellMetadata": {
      "byteLimit": 2048000,
      "rowLimit": 10000
     },
     "inputWidgets": {},
     "nuid": "bbe07bae-f777-4466-8b7f-b72b2bc3de8d",
     "showTitle": false,
     "title": ""
    }
   },
   "outputs": [
    {
     "output_type": "stream",
     "name": "stdout",
     "output_type": "stream",
     "text": [
      "DataFrame with Concatenated Name and Description:\n+---+------+-------------------------------------------+-------------------------------------------------+\n|ID |Name  |Description                                |Name_Description                                 |\n+---+------+-------------------------------------------+-------------------------------------------------+\n|1  |Apple |A red fruit\\nthat is sweet and\\ncrisp.     |AppleA red fruit\\nthat is sweet and\\ncrisp.      |\n|2  |Banana|A yellow fruit\\nthat is soft and\\nsweet.   |BananaA yellow fruit\\nthat is soft and\\nsweet.   |\n|3  |Cherry|A small red fruit\\nthat is tart and\\njuicy.|CherryA small red fruit\\nthat is tart and\\njuicy.|\n+---+------+-------------------------------------------+-------------------------------------------------+\n\n"
     ]
    }
   ],
   "source": [
    "# Concatenate Name and Description into a new column\n",
    "concat_df = df.withColumn('Name_Description', concat(col('Name'), col('Description')))\n",
    "print(\"DataFrame with Concatenated Name and Description:\")\n",
    "concat_df.show(truncate=False)"
   ]
  },
  {
   "cell_type": "code",
   "execution_count": 0,
   "metadata": {
    "application/vnd.databricks.v1+cell": {
     "cellMetadata": {
      "byteLimit": 2048000,
      "rowLimit": 10000
     },
     "inputWidgets": {},
     "nuid": "2bddf009-579c-4c1d-b3bc-b3f7160a2eb6",
     "showTitle": false,
     "title": ""
    }
   },
   "outputs": [
    {
     "output_type": "stream",
     "name": "stdout",
     "output_type": "stream",
     "text": [
      "Filtered DataFrame (Name == 'Apple'):\n+---+-----+--------------------------------------+\n|ID |Name |Description                           |\n+---+-----+--------------------------------------+\n|1  |Apple|A red fruit\\nthat is sweet and\\ncrisp.|\n+---+-----+--------------------------------------+\n\n"
     ]
    }
   ],
   "source": [
    "# Filter rows where the Name column is 'Apple'\n",
    "filtered_df = df.filter(col('Name') == 'Apple')\n",
    "print(\"Filtered DataFrame (Name == 'Apple'):\")\n",
    "filtered_df.show(truncate=False)"
   ]
  },
  {
   "cell_type": "code",
   "execution_count": 0,
   "metadata": {
    "application/vnd.databricks.v1+cell": {
     "cellMetadata": {
      "byteLimit": 2048000,
      "rowLimit": 10000
     },
     "inputWidgets": {},
     "nuid": "7c7ab0f6-e784-460a-b137-79eb2ed4bce3",
     "showTitle": false,
     "title": ""
    }
   },
   "outputs": [
    {
     "output_type": "stream",
     "name": "stdout",
     "output_type": "stream",
     "text": [
      "DataFrame with Description Length:\n+---+------+-------------------------------------------+------------------+\n|ID |Name  |Description                                |Description_Length|\n+---+------+-------------------------------------------+------------------+\n|1  |Apple |A red fruit\\nthat is sweet and\\ncrisp.     |36                |\n|2  |Banana|A yellow fruit\\nthat is soft and\\nsweet.   |38                |\n|3  |Cherry|A small red fruit\\nthat is tart and\\njuicy.|41                |\n+---+------+-------------------------------------------+------------------+\n\n"
     ]
    }
   ],
   "source": [
    "# Add a new column with the length of the Description\n",
    "length_df = df.withColumn('Description_Length', length(col('Description')))\n",
    "print(\"DataFrame with Description Length:\")\n",
    "length_df.show(truncate=False)"
   ]
  },
  {
   "cell_type": "code",
   "execution_count": 0,
   "metadata": {
    "application/vnd.databricks.v1+cell": {
     "cellMetadata": {
      "byteLimit": 2048000,
      "rowLimit": 10000
     },
     "inputWidgets": {},
     "nuid": "b2c64d9d-3abf-4c7e-a27e-7982f5e98dc3",
     "showTitle": false,
     "title": ""
    }
   },
   "outputs": [
    {
     "output_type": "stream",
     "name": "stdout",
     "output_type": "stream",
     "text": [
      "Grouped by Category and Count:\n+--------+-----+\n|Category|count|\n+--------+-----+\n|Fruit   |3    |\n+--------+-----+\n\n"
     ]
    }
   ],
   "source": [
    "# Group by Category and count the number of rows in each group\n",
    "joined_df = df.join(new_df, on='ID', how='inner')\n",
    "grouped_df = joined_df.groupBy('Category').count()\n",
    "print(\"Grouped by Category and Count:\")\n",
    "grouped_df.show(truncate=False)"
   ]
  },
  {
   "cell_type": "code",
   "execution_count": 0,
   "metadata": {
    "application/vnd.databricks.v1+cell": {
     "cellMetadata": {},
     "inputWidgets": {},
     "nuid": "5e650ea6-a8c6-4411-96eb-98061d051798",
     "showTitle": false,
     "title": ""
    }
   },
   "outputs": [],
   "source": []
  }
 ],
 "metadata": {
  "application/vnd.databricks.v1+notebook": {
   "dashboards": [],
   "environmentMetadata": null,
   "language": "python",
   "notebookMetadata": {
    "pythonIndentUnit": 4
   },
   "notebookName": "Multiline records in csv file-updated",
   "widgets": {}
  }
 },
 "nbformat": 4,
 "nbformat_minor": 0
}
