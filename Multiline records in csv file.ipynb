{
 "cells": [
  {
   "cell_type": "code",
   "execution_count": 0,
   "metadata": {
    "application/vnd.databricks.v1+cell": {
     "cellMetadata": {
      "byteLimit": 2048000,
      "rowLimit": 10000
     },
     "inputWidgets": {},
     "nuid": "3b16a585-dd03-471a-8c25-5b22fcc79ed9",
     "showTitle": false,
     "title": ""
    }
   },
   "outputs": [],
   "source": [
    "# handlining multiline records in csv file\n",
    "# define schema\n",
    "from pyspark.sql.types import *\n",
    "schema = StructType([StructField(\"ID\",IntegerType(),True),\n",
    "                     StructField(\"Name\",StringType(),True),\n",
    "                     StructField(\"Description\",StringType(),True) \n",
    "                     ])\n",
    "\n",
    "\n"
   ]
  },
  {
   "cell_type": "code",
   "execution_count": 0,
   "metadata": {
    "application/vnd.databricks.v1+cell": {
     "cellMetadata": {
      "byteLimit": 2048000,
      "rowLimit": 10000
     },
     "inputWidgets": {},
     "nuid": "208ebe84-7bf8-42cf-92de-c88532a58f5b",
     "showTitle": false,
     "title": ""
    }
   },
   "outputs": [
    {
     "output_type": "display_data",
     "data": {
      "text/html": [
       "<style scoped>\n",
       "  .table-result-container {\n",
       "    max-height: 300px;\n",
       "    overflow: auto;\n",
       "  }\n",
       "  table, th, td {\n",
       "    border: 1px solid black;\n",
       "    border-collapse: collapse;\n",
       "  }\n",
       "  th, td {\n",
       "    padding: 5px;\n",
       "  }\n",
       "  th {\n",
       "    text-align: left;\n",
       "  }\n",
       "</style><div class='table-result-container'><table class='table-result'><thead style='background-color: white'><tr><th>ID</th><th>Name</th><th>Description</th></tr></thead><tbody><tr><td>null</td><td>Name</td><td>Description</td></tr><tr><td>1</td><td>Apple</td><td>A red fruit\n",
       "</td></tr><tr><td>null</td><td>null</td><td>null</td></tr><tr><td>null</td><td>null</td><td>null</td></tr><tr><td>2</td><td>Banana</td><td>A yellow fruit\n",
       "</td></tr><tr><td>null</td><td>null</td><td>null</td></tr><tr><td>null</td><td>null</td><td>null</td></tr><tr><td>3</td><td>Cherry</td><td>A small red fruit\n",
       "</td></tr><tr><td>null</td><td>null</td><td>null</td></tr><tr><td>null</td><td>null</td><td>null</td></tr></tbody></table></div>"
      ]
     },
     "metadata": {
      "application/vnd.databricks.v1+output": {
       "addedWidgets": {},
       "aggData": [],
       "aggError": "",
       "aggOverflow": false,
       "aggSchema": [],
       "aggSeriesLimitReached": false,
       "aggType": "",
       "arguments": {},
       "columnCustomDisplayInfos": {},
       "data": [
        [
         null,
         "Name",
         "Description"
        ],
        [
         1,
         "Apple",
         "A red fruit\n"
        ],
        [
         null,
         null,
         null
        ],
        [
         null,
         null,
         null
        ],
        [
         2,
         "Banana",
         "A yellow fruit\n"
        ],
        [
         null,
         null,
         null
        ],
        [
         null,
         null,
         null
        ],
        [
         3,
         "Cherry",
         "A small red fruit\n"
        ],
        [
         null,
         null,
         null
        ],
        [
         null,
         null,
         null
        ]
       ],
       "datasetInfos": [],
       "dbfsResultPath": null,
       "isJsonSchema": true,
       "metadata": {},
       "overflow": false,
       "plotOptions": {
        "customPlotOptions": {},
        "displayType": "table",
        "pivotAggregation": null,
        "pivotColumns": null,
        "xColumns": null,
        "yColumns": null
       },
       "removedWidgets": [],
       "schema": [
        {
         "metadata": "{}",
         "name": "ID",
         "type": "\"integer\""
        },
        {
         "metadata": "{}",
         "name": "Name",
         "type": "\"string\""
        },
        {
         "metadata": "{}",
         "name": "Description",
         "type": "\"string\""
        }
       ],
       "type": "table"
      }
     },
     "output_type": "display_data"
    }
   ],
   "source": [
    "df = spark.read.format(\"csv\").schema(schema).load(\"/FileStore/tables/multiline.csv\")\n",
    "\n",
    "display(df)\n"
   ]
  },
  {
   "cell_type": "code",
   "execution_count": 0,
   "metadata": {
    "application/vnd.databricks.v1+cell": {
     "cellMetadata": {},
     "inputWidgets": {},
     "nuid": "c5bd5fb5-7758-43da-ad3d-8e1b04a3eb23",
     "showTitle": false,
     "title": ""
    }
   },
   "outputs": [],
   "source": [
    "# in the above sample csv file, the descrption column was in multine,hence the complete description was trimmed and was showing as null records...which is not the correct data. Am rading the csv file with multiline True option."
   ]
  },
  {
   "cell_type": "code",
   "execution_count": 0,
   "metadata": {
    "application/vnd.databricks.v1+cell": {
     "cellMetadata": {
      "byteLimit": 2048000,
      "rowLimit": 10000
     },
     "inputWidgets": {},
     "nuid": "18de6afc-9189-4244-97ea-0b219d7efc98",
     "showTitle": false,
     "title": ""
    }
   },
   "outputs": [],
   "source": [
    "# Path to the CSV file\n",
    "csv_file_path = '/FileStore/tables/multiline.csv'\n",
    "\n",
    "# Read the multiline CSV file into a DataFrame\n",
    "df = spark.read.format(\"csv\") \\\n",
    "               .option(\"header\", \"true\") \\\n",
    "               .option(\"multiline\", \"true\") \\\n",
    "               .option(\"escape\", \"\\\"\") \\\n",
    "               .option(\"quote\", \"\\\"\") \\\n",
    "               .option(\"inferSchema\", \"true\") \\\n",
    "               .load(csv_file_path)"
   ]
  },
  {
   "cell_type": "code",
   "execution_count": 0,
   "metadata": {
    "application/vnd.databricks.v1+cell": {
     "cellMetadata": {
      "byteLimit": 2048000,
      "rowLimit": 10000
     },
     "inputWidgets": {},
     "nuid": "b7601dfe-124a-453d-aed2-a54a9af5c676",
     "showTitle": false,
     "title": ""
    }
   },
   "outputs": [
    {
     "output_type": "display_data",
     "data": {
      "text/html": [
       "<style scoped>\n",
       "  .table-result-container {\n",
       "    max-height: 300px;\n",
       "    overflow: auto;\n",
       "  }\n",
       "  table, th, td {\n",
       "    border: 1px solid black;\n",
       "    border-collapse: collapse;\n",
       "  }\n",
       "  th, td {\n",
       "    padding: 5px;\n",
       "  }\n",
       "  th {\n",
       "    text-align: left;\n",
       "  }\n",
       "</style><div class='table-result-container'><table class='table-result'><thead style='background-color: white'><tr><th>ID</th><th>Name</th><th>Description</th></tr></thead><tbody><tr><td>1</td><td>Apple</td><td>A red fruit\n",
       "that is sweet and\n",
       "crisp.</td></tr><tr><td>2</td><td>Banana</td><td>A yellow fruit\n",
       "that is soft and\n",
       "sweet.</td></tr><tr><td>3</td><td>Cherry</td><td>A small red fruit\n",
       "that is tart and\n",
       "juicy.</td></tr></tbody></table></div>"
      ]
     },
     "metadata": {
      "application/vnd.databricks.v1+output": {
       "addedWidgets": {},
       "aggData": [],
       "aggError": "",
       "aggOverflow": false,
       "aggSchema": [],
       "aggSeriesLimitReached": false,
       "aggType": "",
       "arguments": {},
       "columnCustomDisplayInfos": {},
       "data": [
        [
         1,
         "Apple",
         "A red fruit\nthat is sweet and\ncrisp."
        ],
        [
         2,
         "Banana",
         "A yellow fruit\nthat is soft and\nsweet."
        ],
        [
         3,
         "Cherry",
         "A small red fruit\nthat is tart and\njuicy."
        ]
       ],
       "datasetInfos": [],
       "dbfsResultPath": null,
       "isJsonSchema": true,
       "metadata": {},
       "overflow": false,
       "plotOptions": {
        "customPlotOptions": {},
        "displayType": "table",
        "pivotAggregation": null,
        "pivotColumns": null,
        "xColumns": null,
        "yColumns": null
       },
       "removedWidgets": [],
       "schema": [
        {
         "metadata": "{}",
         "name": "ID",
         "type": "\"integer\""
        },
        {
         "metadata": "{}",
         "name": "Name",
         "type": "\"string\""
        },
        {
         "metadata": "{}",
         "name": "Description",
         "type": "\"string\""
        }
       ],
       "type": "table"
      }
     },
     "output_type": "display_data"
    }
   ],
   "source": [
    "display(df)"
   ]
  },
  {
   "cell_type": "code",
   "execution_count": 0,
   "metadata": {
    "application/vnd.databricks.v1+cell": {
     "cellMetadata": {},
     "inputWidgets": {},
     "nuid": "2aacc227-dae6-4369-92f0-1857c95f5794",
     "showTitle": false,
     "title": ""
    }
   },
   "outputs": [],
   "source": [
    "#Path to the CSV file: Define the path to the CSV file.\n",
    "#Read the multiline CSV file into a DataFrame:\n",
    "#Use read.format(\"csv\") to specify that we are reading a CSV file.\n",
    "#Use the option method to set various options for reading the CSV file:\n",
    "#\"header\", \"true\": Indicates that the first line of the CSV file contains the header.\n",
    "#\"multiline\", \"true\": Enables reading multiline records.\n",
    "#\"escape\", \"\\\"\": Specifies the escape character to handle double quotes in the text.\n",
    "#\"quote\", \"\\\"\": Specifies the quote character.\n",
    "#\"inferSchema\", \"true\": Infers the schema of the DataFrame.\n",
    "#Use the load method to read the CSV file into a DataFrame.\n",
    "#Display the DataFrame: "
   ]
  }
 ],
 "metadata": {
  "application/vnd.databricks.v1+notebook": {
   "dashboards": [],
   "environmentMetadata": null,
   "language": "python",
   "notebookMetadata": {
    "pythonIndentUnit": 4
   },
   "notebookName": "Multiline records in csv file",
   "widgets": {}
  }
 },
 "nbformat": 4,
 "nbformat_minor": 0
}
