{
 "cells": [
  {
   "cell_type": "code",
   "execution_count": 0,
   "metadata": {
    "application/vnd.databricks.v1+cell": {
     "cellMetadata": {
      "byteLimit": 2048000,
      "rowLimit": 10000
     },
     "inputWidgets": {},
     "nuid": "9bd057ae-a3cf-426f-847b-11918a37ec73",
     "showTitle": false,
     "title": ""
    }
   },
   "outputs": [],
   "source": [
    "df = spark.read.json(\"/FileStore/tables/test.json\", multiLine=True)"
   ]
  },
  {
   "cell_type": "code",
   "execution_count": 0,
   "metadata": {
    "application/vnd.databricks.v1+cell": {
     "cellMetadata": {
      "byteLimit": 2048000,
      "rowLimit": 10000
     },
     "inputWidgets": {},
     "nuid": "658a755f-3de2-412e-bdc8-1d640db4ea8b",
     "showTitle": false,
     "title": ""
    }
   },
   "outputs": [
    {
     "output_type": "stream",
     "name": "stdout",
     "output_type": "stream",
     "text": [
      "+--------------------+---+-----+\n|          attributes| id| name|\n+--------------------+---+-----+\n|{30, [reading, cy...|  1|Alice|\n|    {25, [painting]}|  2|  Bob|\n+--------------------+---+-----+\n\n"
     ]
    }
   ],
   "source": [
    "df.show()"
   ]
  },
  {
   "cell_type": "code",
   "execution_count": 0,
   "metadata": {
    "application/vnd.databricks.v1+cell": {
     "cellMetadata": {
      "byteLimit": 2048000,
      "rowLimit": 10000
     },
     "inputWidgets": {},
     "nuid": "b72239b6-d8ce-4d1b-bdad-9c4a3a8f83ae",
     "showTitle": false,
     "title": ""
    }
   },
   "outputs": [
    {
     "output_type": "stream",
     "name": "stdout",
     "output_type": "stream",
     "text": [
      "root\n |-- attributes: struct (nullable = true)\n |    |-- age: long (nullable = true)\n |    |-- hobbies: array (nullable = true)\n |    |    |-- element: string (containsNull = true)\n |-- id: long (nullable = true)\n |-- name: string (nullable = true)\n\n"
     ]
    }
   ],
   "source": [
    "df.printSchema()"
   ]
  },
  {
   "cell_type": "code",
   "execution_count": 0,
   "metadata": {
    "application/vnd.databricks.v1+cell": {
     "cellMetadata": {
      "byteLimit": 2048000,
      "rowLimit": 10000
     },
     "inputWidgets": {},
     "nuid": "66299d01-b32c-44bb-84e0-a69221c4a7a0",
     "showTitle": false,
     "title": ""
    }
   },
   "outputs": [],
   "source": [
    "from pyspark.sql.functions import col, explode\n",
    "df_normalized = df.select(col('id'), col('name'),col('attributes.age').alias('age'), col('attributes.hobbies').alias('hobbies'))"
   ]
  },
  {
   "cell_type": "code",
   "execution_count": 0,
   "metadata": {
    "application/vnd.databricks.v1+cell": {
     "cellMetadata": {
      "byteLimit": 2048000,
      "rowLimit": 10000
     },
     "inputWidgets": {},
     "nuid": "3e04d05a-8446-4bee-85e5-b4f4205dd276",
     "showTitle": false,
     "title": ""
    }
   },
   "outputs": [
    {
     "output_type": "stream",
     "name": "stdout",
     "output_type": "stream",
     "text": [
      "+---+-----+---+------------------+\n| id| name|age|           hobbies|\n+---+-----+---+------------------+\n|  1|Alice| 30|[reading, cycling]|\n|  2|  Bob| 25|        [painting]|\n+---+-----+---+------------------+\n\n"
     ]
    }
   ],
   "source": [
    "df_normalized.show()"
   ]
  },
  {
   "cell_type": "code",
   "execution_count": 0,
   "metadata": {
    "application/vnd.databricks.v1+cell": {
     "cellMetadata": {
      "byteLimit": 2048000,
      "rowLimit": 10000
     },
     "inputWidgets": {},
     "nuid": "26ba4606-da54-454a-8ae4-63526e6b7d62",
     "showTitle": false,
     "title": ""
    }
   },
   "outputs": [],
   "source": [
    "df_exploded = df_normalized.withColumn('hobby',explode(col('hobbies'))).drop('hobbies')"
   ]
  },
  {
   "cell_type": "code",
   "execution_count": 0,
   "metadata": {
    "application/vnd.databricks.v1+cell": {
     "cellMetadata": {
      "byteLimit": 2048000,
      "rowLimit": 10000
     },
     "inputWidgets": {},
     "nuid": "3b6918d6-cd91-4a03-9971-6d33b2bb32ea",
     "showTitle": false,
     "title": ""
    }
   },
   "outputs": [
    {
     "output_type": "stream",
     "name": "stdout",
     "output_type": "stream",
     "text": [
      "+---+-----+---+--------+\n| id| name|age|   hobby|\n+---+-----+---+--------+\n|  1|Alice| 30| reading|\n|  1|Alice| 30| cycling|\n|  2|  Bob| 25|painting|\n+---+-----+---+--------+\n\n"
     ]
    }
   ],
   "source": [
    "df_exploded.show()"
   ]
  },
  {
   "cell_type": "code",
   "execution_count": 0,
   "metadata": {
    "application/vnd.databricks.v1+cell": {
     "cellMetadata": {
      "byteLimit": 2048000,
      "rowLimit": 10000
     },
     "inputWidgets": {},
     "nuid": "85ead265-a890-4883-80ae-0198c25bf385",
     "showTitle": false,
     "title": ""
    }
   },
   "outputs": [],
   "source": [
    "df = spark.read.json(\"/FileStore/tables/Sample.json\", multiLine=True)"
   ]
  },
  {
   "cell_type": "code",
   "execution_count": 0,
   "metadata": {
    "application/vnd.databricks.v1+cell": {
     "cellMetadata": {
      "byteLimit": 2048000,
      "rowLimit": 10000
     },
     "inputWidgets": {},
     "nuid": "f03e6483-7278-49d5-bd05-ae152b6806e2",
     "showTitle": false,
     "title": ""
    }
   },
   "outputs": [
    {
     "output_type": "stream",
     "name": "stdout",
     "output_type": "stream",
     "text": [
      "+--------------------+---+--------------------+---+--------------------+---------+-------------+\n|             address|age|               email| id|           interests|is_active|         name|\n+--------------------+---+--------------------+---+--------------------+---------+-------------+\n|{Springfield, IL,...| 28|john.doe@example.com|  1|[hiking, reading,...|     true|     John Doe|\n|{Dover, DE, 456 O...| 34|jane.smith@exampl...|  2|  [cooking, cycling]|    false|   Jane Smith|\n|{Austin, TX, 789 ...| 29|alice.johnson@exa...|  3|[photography, gam...|     true|Alice Johnson|\n+--------------------+---+--------------------+---+--------------------+---------+-------------+\n\n"
     ]
    }
   ],
   "source": [
    "df.show()"
   ]
  },
  {
   "cell_type": "code",
   "execution_count": 0,
   "metadata": {
    "application/vnd.databricks.v1+cell": {
     "cellMetadata": {},
     "inputWidgets": {},
     "nuid": "c3998fee-21ba-44f8-9c5e-6aa2ee96242e",
     "showTitle": false,
     "title": ""
    }
   },
   "outputs": [],
   "source": []
  }
 ],
 "metadata": {
  "application/vnd.databricks.v1+notebook": {
   "dashboards": [],
   "environmentMetadata": null,
   "language": "python",
   "notebookMetadata": {
    "pythonIndentUnit": 4
   },
   "notebookName": "Reading JSON file into Spark Dataframe",
   "widgets": {}
  }
 },
 "nbformat": 4,
 "nbformat_minor": 0
}
