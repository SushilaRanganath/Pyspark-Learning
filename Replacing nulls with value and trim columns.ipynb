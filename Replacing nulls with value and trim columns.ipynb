{
 "cells": [
  {
   "cell_type": "code",
   "execution_count": 0,
   "metadata": {
    "application/vnd.databricks.v1+cell": {
     "cellMetadata": {
      "byteLimit": 2048000,
      "rowLimit": 10000
     },
     "inputWidgets": {},
     "nuid": "72a2a0e0-3176-45b9-90fc-c3829a4d4157",
     "showTitle": false,
     "title": ""
    }
   },
   "outputs": [
    {
     "output_type": "stream",
     "name": "stdout",
     "output_type": "stream",
     "text": [
      "Original DataFrame:\n+----------+---------+----------+------+\n|    Fruits|  Animals|    Colour|ID_Num|\n+----------+---------+----------+------+\n|   apple  |    dog  |      null|   123|\n|  banana  |     null|    blue  |  null|\n|      null|  mouse  |   green  |   789|\n|   grape  |  horse  |  yellow  |   456|\n|   melon  |    cat  |  orange  |  null|\n+----------+---------+----------+------+\n\n"
     ]
    }
   ],
   "source": [
    "\n",
    "from pyspark.sql.functions import udf, col\n",
    "from pyspark.sql.types import StringType\n",
    "\n",
    "\n",
    "# Sample data with various types and NULL values\n",
    "data = [\n",
    "    ('  apple  ', '  dog  ', None, 123),\n",
    "    ('  banana  ', None, '  blue  ', None),\n",
    "    (None, '  mouse  ', '  green  ', 789),\n",
    "    ('  grape  ', '  horse  ', '  yellow  ', 456),\n",
    "    ('  melon  ', '  cat  ', '  orange  ', None)\n",
    "]\n",
    "\n",
    "# Column names\n",
    "columns = ['Fruits', 'Animals', 'Colour', 'ID_Num']\n",
    "\n",
    "# Create DataFrame\n",
    "df = spark.createDataFrame(data, columns)\n",
    "\n",
    "# Display original DataFrame\n",
    "print(\"Original DataFrame:\")\n",
    "df.show()\n",
    "\n"
   ]
  },
  {
   "cell_type": "code",
   "execution_count": 0,
   "metadata": {
    "application/vnd.databricks.v1+cell": {
     "cellMetadata": {
      "byteLimit": 2048000,
      "rowLimit": 10000
     },
     "inputWidgets": {},
     "nuid": "aad84595-e6da-4748-997b-b4f673de4e3a",
     "showTitle": false,
     "title": ""
    }
   },
   "outputs": [
    {
     "output_type": "stream",
     "name": "stdout",
     "output_type": "stream",
     "text": [
      "\nTrimmed DataFrame:\n+-------------+-------------+-------------+-------------+\n|       Fruits|      Animals|       Colour|       ID_Num|\n+-------------+-------------+-------------+-------------+\n|        apple|          dog|default_value|          123|\n|       banana|default_value|         blue|default_value|\n|default_value|        mouse|        green|          789|\n|        grape|        horse|       yellow|          456|\n|        melon|          cat|       orange|default_value|\n+-------------+-------------+-------------+-------------+\n\n"
     ]
    }
   ],
   "source": [
    "# Define the trimming function\n",
    "def Replace(value):\n",
    "    if value is None:\n",
    "        return 'default_value'\n",
    "    elif isinstance(value, str):\n",
    "        return value.strip()\n",
    "    else:\n",
    "        return str(value).strip()\n",
    "\n",
    "# Register the UDF\n",
    "trim_udf = udf(Replace, StringType())\n",
    "\n",
    "# Apply the UDF to each column using a for loop\n",
    "for col_name in df.columns:\n",
    "     df = df.withColumn(col_name, trim_udf(col(col_name)))\n",
    "\n",
    "# Display trimmed DataFrame\n",
    "print(\"\\nTrimmed DataFrame:\")\n",
    "df.show()"
   ]
  },
  {
   "cell_type": "code",
   "execution_count": 0,
   "metadata": {
    "application/vnd.databricks.v1+cell": {
     "cellMetadata": {
      "byteLimit": 2048000,
      "rowLimit": 10000
     },
     "inputWidgets": {},
     "nuid": "6fffa8e5-8d96-4a63-90b2-bd99c0408aa1",
     "showTitle": false,
     "title": ""
    }
   },
   "outputs": [
    {
     "output_type": "display_data",
     "data": {
      "text/html": [
       "<style scoped>\n",
       "  .table-result-container {\n",
       "    max-height: 300px;\n",
       "    overflow: auto;\n",
       "  }\n",
       "  table, th, td {\n",
       "    border: 1px solid black;\n",
       "    border-collapse: collapse;\n",
       "  }\n",
       "  th, td {\n",
       "    padding: 5px;\n",
       "  }\n",
       "  th {\n",
       "    text-align: left;\n",
       "  }\n",
       "</style><div class='table-result-container'><table class='table-result'><thead style='background-color: white'><tr><th>Fruits</th><th>Animals</th><th>Colour</th><th>ID_Num</th></tr></thead><tbody><tr><td>apple</td><td>dog</td><td>default_value</td><td>123</td></tr><tr><td>banana</td><td>default_value</td><td>blue</td><td>default_value</td></tr><tr><td>default_value</td><td>mouse</td><td>green</td><td>789</td></tr><tr><td>grape</td><td>horse</td><td>yellow</td><td>456</td></tr><tr><td>melon</td><td>cat</td><td>orange</td><td>default_value</td></tr></tbody></table></div>"
      ]
     },
     "metadata": {
      "application/vnd.databricks.v1+output": {
       "addedWidgets": {},
       "aggData": [],
       "aggError": "",
       "aggOverflow": false,
       "aggSchema": [],
       "aggSeriesLimitReached": false,
       "aggType": "",
       "arguments": {},
       "columnCustomDisplayInfos": {},
       "data": [
        [
         "apple",
         "dog",
         "default_value",
         "123"
        ],
        [
         "banana",
         "default_value",
         "blue",
         "default_value"
        ],
        [
         "default_value",
         "mouse",
         "green",
         "789"
        ],
        [
         "grape",
         "horse",
         "yellow",
         "456"
        ],
        [
         "melon",
         "cat",
         "orange",
         "default_value"
        ]
       ],
       "datasetInfos": [],
       "dbfsResultPath": null,
       "isJsonSchema": true,
       "metadata": {},
       "overflow": false,
       "plotOptions": {
        "customPlotOptions": {},
        "displayType": "table",
        "pivotAggregation": null,
        "pivotColumns": null,
        "xColumns": null,
        "yColumns": null
       },
       "removedWidgets": [],
       "schema": [
        {
         "metadata": "{}",
         "name": "Fruits",
         "type": "\"string\""
        },
        {
         "metadata": "{}",
         "name": "Animals",
         "type": "\"string\""
        },
        {
         "metadata": "{}",
         "name": "Colour",
         "type": "\"string\""
        },
        {
         "metadata": "{}",
         "name": "ID_Num",
         "type": "\"string\""
        }
       ],
       "type": "table"
      }
     },
     "output_type": "display_data"
    }
   ],
   "source": [
    "display(df)"
   ]
  },
  {
   "cell_type": "code",
   "execution_count": 0,
   "metadata": {
    "application/vnd.databricks.v1+cell": {
     "cellMetadata": {},
     "inputWidgets": {},
     "nuid": "5de34d6e-646f-4a0d-9a5a-69e5b18a303a",
     "showTitle": false,
     "title": ""
    }
   },
   "outputs": [],
   "source": [
    "# Eplanation:\n",
    "# Import PySpark libraries: Import necessary functions and types from pyspark.sql.\n",
    "#Sample data: Define sample data that includes various data types and None values, and define column names.\n",
    "#Create DataFrame: Create a PySpark DataFrame using the sample data.\n",
    "#Display original DataFrame: Use the show() method to display the original DataFrame.\n",
    "#Define the trimming function: Create a function trim_and_handle_none that trims whitespace from string values, replaces None with a default value, and converts non-string values to strings and trims them.\n",
    "#Register the UDF: Register the trimming function as a UDF using udf and specify the return type as StringType.\n",
    "#Apply the UDF to each column: Use a for loop and withColumn to apply the UDF to each column in the DataFrame.\n",
    "#Display trimmed DataFrame: Use the show() method to display the trimmed DataFrame."
   ]
  }
 ],
 "metadata": {
  "application/vnd.databricks.v1+notebook": {
   "dashboards": [],
   "environmentMetadata": null,
   "language": "python",
   "notebookMetadata": {
    "pythonIndentUnit": 4
   },
   "notebookName": "Replacing nulls with value and trim columns",
   "widgets": {}
  }
 },
 "nbformat": 4,
 "nbformat_minor": 0
}
