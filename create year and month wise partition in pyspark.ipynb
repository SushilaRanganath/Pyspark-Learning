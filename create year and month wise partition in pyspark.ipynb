{
 "cells": [
  {
   "cell_type": "markdown",
   "metadata": {
    "application/vnd.databricks.v1+cell": {
     "cellMetadata": {},
     "inputWidgets": {},
     "nuid": "d86ff33a-3b69-4d08-8920-18bed224431a",
     "showTitle": false,
     "title": ""
    }
   },
   "source": [
    "###### Data partitioning is critical to data processing performance especially for large volume of data processing in Spark.\n",
    "###### pyspark : How to write dataframe partition by year/month/ sub-directory?"
   ]
  },
  {
   "cell_type": "code",
   "execution_count": 0,
   "metadata": {
    "application/vnd.databricks.v1+cell": {
     "cellMetadata": {
      "byteLimit": 2048000,
      "rowLimit": 10000
     },
     "inputWidgets": {},
     "nuid": "3f23a2da-105d-4554-bc78-8b793d2f4072",
     "showTitle": false,
     "title": ""
    }
   },
   "outputs": [
    {
     "output_type": "display_data",
     "data": {
      "text/html": [
       "<style scoped>\n",
       "  .table-result-container {\n",
       "    max-height: 300px;\n",
       "    overflow: auto;\n",
       "  }\n",
       "  table, th, td {\n",
       "    border: 1px solid black;\n",
       "    border-collapse: collapse;\n",
       "  }\n",
       "  th, td {\n",
       "    padding: 5px;\n",
       "  }\n",
       "  th {\n",
       "    text-align: left;\n",
       "  }\n",
       "</style><div class='table-result-container'><table class='table-result'><thead style='background-color: white'><tr><th>EMPNO</th><th>ENAME</th><th>JOB</th><th>MGR</th><th>HIREDATE</th><th>SAL</th><th>COMM</th><th>DEPTNO</th><th>UPDATED_DATE</th></tr></thead><tbody><tr><td>7369</td><td>SMITH</td><td>CLERK</td><td>7902</td><td>1980-12-17</td><td>800</td><td>null</td><td>20</td><td>2022-01-01</td></tr><tr><td>7499</td><td>ALLEN</td><td>SALESMAN</td><td>7698</td><td>1981-02-20</td><td>1600</td><td>300</td><td>30</td><td>2022-01-01</td></tr><tr><td>7521</td><td>WARD</td><td>SALESMAN</td><td>7698</td><td>1981-02-22</td><td>1250</td><td>500</td><td>30</td><td>2022-01-01</td></tr><tr><td>7566</td><td>JONES</td><td>MANAGER</td><td>7839</td><td>1981-02-04</td><td>2975</td><td>null</td><td>20</td><td>2022-01-05</td></tr><tr><td>7654</td><td>MARTIN</td><td>SALESMAN</td><td>7698</td><td>1981-09-21</td><td>1250</td><td>1400</td><td>30</td><td>2022-01-03</td></tr><tr><td>7698</td><td>SGR</td><td>MANAGER</td><td>7839</td><td>1981-01-05</td><td>2850</td><td>null</td><td>30</td><td>2022-01-04</td></tr><tr><td>7782</td><td>RAVI</td><td>MANAGER</td><td>7839</td><td>1981-09-06</td><td>2450</td><td>null</td><td>10</td><td>2022-01-02</td></tr><tr><td>7788</td><td>SCOTT</td><td>ANALYST</td><td>7566</td><td>1987-04-19</td><td>3000</td><td>null</td><td>20</td><td>2022-01-02</td></tr><tr><td>7839</td><td>KING</td><td>PRESIDENT</td><td>null</td><td>1981-11-01</td><td>5000</td><td>null</td><td>10</td><td>2022-01-02</td></tr><tr><td>7844</td><td>TURNER</td><td>SALESMAN</td><td>7698</td><td>1981-08-09</td><td>1500</td><td>0</td><td>30</td><td>2022-01-02</td></tr><tr><td>7876</td><td>ADAMS</td><td>CLERK</td><td>7788</td><td>1987-05-23</td><td>1100</td><td>null</td><td>20</td><td>2022-01-03</td></tr><tr><td>7900</td><td>JAMES</td><td>CLERK</td><td>7698</td><td>1981-03-12</td><td>950</td><td>null</td><td>30</td><td>2022-01-03</td></tr><tr><td>7902</td><td>FORD</td><td>ANALYST</td><td>7566</td><td>1981-03-12</td><td>3000</td><td>null</td><td>20</td><td>2022-01-03</td></tr><tr><td>7934</td><td>MILLER</td><td>CLERK</td><td>7782</td><td>1982-03-01</td><td>1300</td><td>null</td><td>10</td><td>2022-01-03</td></tr><tr><td>1234</td><td>SEKHAR</td><td>doctor</td><td>7777</td><td>null</td><td>667</td><td>78</td><td>80</td><td>2022-01-03</td></tr><tr><td>7369</td><td>SMITH</td><td>CLERK</td><td>7902</td><td>1980-12-17</td><td>800</td><td>null</td><td>20</td><td>2022-01-04</td></tr><tr><td>7499</td><td>ALLEN</td><td>SALESMAN</td><td>7698</td><td>1981-02-20</td><td>1600</td><td>300</td><td>30</td><td>2022-01-04</td></tr><tr><td>7521</td><td>WARD</td><td>SALESMAN</td><td>7698</td><td>1981-02-22</td><td>1250</td><td>500</td><td>30</td><td>2022-01-04</td></tr><tr><td>7566</td><td>JONES</td><td>MANAGER</td><td>7839</td><td>1981-02-04</td><td>2975</td><td>null</td><td>20</td><td>2022-01-04</td></tr><tr><td>7654</td><td>MARTIN</td><td>SALESMAN</td><td>7698</td><td>1981-09-21</td><td>1250</td><td>1400</td><td>30</td><td>2022-01-05</td></tr><tr><td>7698</td><td>SGR</td><td>MANAGER</td><td>7839</td><td>1981-01-05</td><td>2850</td><td>null</td><td>30</td><td>2022-01-05</td></tr><tr><td>7782</td><td>RAVI</td><td>MANAGER</td><td>7839</td><td>1981-09-06</td><td>2450</td><td>null</td><td>10</td><td>2022-01-05</td></tr><tr><td>7788</td><td>SCOTT</td><td>ANALYST</td><td>7566</td><td>1987-04-19</td><td>3000</td><td>null</td><td>20</td><td>2022-01-06</td></tr><tr><td>7839</td><td>KING</td><td>PRESIDENT</td><td>null</td><td>1981-11-01</td><td>5000</td><td>null</td><td>10</td><td>2022-01-06</td></tr><tr><td>7844</td><td>TURNER</td><td>SALESMAN</td><td>7698</td><td>1981-08-09</td><td>1500</td><td>0</td><td>30</td><td>2022-01-06</td></tr><tr><td>7876</td><td>ADAMS</td><td>CLERK</td><td>7788</td><td>1987-05-23</td><td>1100</td><td>null</td><td>20</td><td>2022-01-06</td></tr><tr><td>7900</td><td>JAMES</td><td>CLERK</td><td>7698</td><td>1981-03-12</td><td>950</td><td>null</td><td>30</td><td>2022-01-07</td></tr><tr><td>7902</td><td>FORD</td><td>ANALYST</td><td>7566</td><td>1981-03-12</td><td>3000</td><td>null</td><td>20</td><td>2022-01-07</td></tr><tr><td>7934</td><td>MILLER</td><td>CLERK</td><td>7782</td><td>1982-03-01</td><td>1300</td><td>null</td><td>10</td><td>2022-01-07</td></tr><tr><td>1234</td><td>RAM</td><td>CLERK</td><td>7457</td><td>null</td><td>494</td><td>588</td><td>80</td><td>2022-01-07</td></tr><tr><td>null</td><td>null</td><td>null</td><td>null</td><td>null</td><td>null</td><td>null</td><td>null</td><td>null</td></tr><tr><td>null</td><td>null</td><td>null</td><td>null</td><td>null</td><td>null</td><td>null</td><td>null</td><td>null</td></tr><tr><td>null</td><td>null</td><td>null</td><td>null</td><td>null</td><td>null</td><td>null</td><td>null</td><td>null</td></tr></tbody></table></div>"
      ]
     },
     "metadata": {
      "application/vnd.databricks.v1+output": {
       "addedWidgets": {},
       "aggData": [],
       "aggError": "",
       "aggOverflow": false,
       "aggSchema": [],
       "aggSeriesLimitReached": false,
       "aggType": "",
       "arguments": {},
       "columnCustomDisplayInfos": {},
       "data": [
        [
         7369,
         "SMITH",
         "CLERK",
         7902,
         "1980-12-17",
         800,
         null,
         20,
         "2022-01-01"
        ],
        [
         7499,
         "ALLEN",
         "SALESMAN",
         7698,
         "1981-02-20",
         1600,
         300,
         30,
         "2022-01-01"
        ],
        [
         7521,
         "WARD",
         "SALESMAN",
         7698,
         "1981-02-22",
         1250,
         500,
         30,
         "2022-01-01"
        ],
        [
         7566,
         "JONES",
         "MANAGER",
         7839,
         "1981-02-04",
         2975,
         null,
         20,
         "2022-01-05"
        ],
        [
         7654,
         "MARTIN",
         "SALESMAN",
         7698,
         "1981-09-21",
         1250,
         1400,
         30,
         "2022-01-03"
        ],
        [
         7698,
         "SGR",
         "MANAGER",
         7839,
         "1981-01-05",
         2850,
         null,
         30,
         "2022-01-04"
        ],
        [
         7782,
         "RAVI",
         "MANAGER",
         7839,
         "1981-09-06",
         2450,
         null,
         10,
         "2022-01-02"
        ],
        [
         7788,
         "SCOTT",
         "ANALYST",
         7566,
         "1987-04-19",
         3000,
         null,
         20,
         "2022-01-02"
        ],
        [
         7839,
         "KING",
         "PRESIDENT",
         null,
         "1981-11-01",
         5000,
         null,
         10,
         "2022-01-02"
        ],
        [
         7844,
         "TURNER",
         "SALESMAN",
         7698,
         "1981-08-09",
         1500,
         0,
         30,
         "2022-01-02"
        ],
        [
         7876,
         "ADAMS",
         "CLERK",
         7788,
         "1987-05-23",
         1100,
         null,
         20,
         "2022-01-03"
        ],
        [
         7900,
         "JAMES",
         "CLERK",
         7698,
         "1981-03-12",
         950,
         null,
         30,
         "2022-01-03"
        ],
        [
         7902,
         "FORD",
         "ANALYST",
         7566,
         "1981-03-12",
         3000,
         null,
         20,
         "2022-01-03"
        ],
        [
         7934,
         "MILLER",
         "CLERK",
         7782,
         "1982-03-01",
         1300,
         null,
         10,
         "2022-01-03"
        ],
        [
         1234,
         "SEKHAR",
         "doctor",
         7777,
         null,
         667,
         78,
         80,
         "2022-01-03"
        ],
        [
         7369,
         "SMITH",
         "CLERK",
         7902,
         "1980-12-17",
         800,
         null,
         20,
         "2022-01-04"
        ],
        [
         7499,
         "ALLEN",
         "SALESMAN",
         7698,
         "1981-02-20",
         1600,
         300,
         30,
         "2022-01-04"
        ],
        [
         7521,
         "WARD",
         "SALESMAN",
         7698,
         "1981-02-22",
         1250,
         500,
         30,
         "2022-01-04"
        ],
        [
         7566,
         "JONES",
         "MANAGER",
         7839,
         "1981-02-04",
         2975,
         null,
         20,
         "2022-01-04"
        ],
        [
         7654,
         "MARTIN",
         "SALESMAN",
         7698,
         "1981-09-21",
         1250,
         1400,
         30,
         "2022-01-05"
        ],
        [
         7698,
         "SGR",
         "MANAGER",
         7839,
         "1981-01-05",
         2850,
         null,
         30,
         "2022-01-05"
        ],
        [
         7782,
         "RAVI",
         "MANAGER",
         7839,
         "1981-09-06",
         2450,
         null,
         10,
         "2022-01-05"
        ],
        [
         7788,
         "SCOTT",
         "ANALYST",
         7566,
         "1987-04-19",
         3000,
         null,
         20,
         "2022-01-06"
        ],
        [
         7839,
         "KING",
         "PRESIDENT",
         null,
         "1981-11-01",
         5000,
         null,
         10,
         "2022-01-06"
        ],
        [
         7844,
         "TURNER",
         "SALESMAN",
         7698,
         "1981-08-09",
         1500,
         0,
         30,
         "2022-01-06"
        ],
        [
         7876,
         "ADAMS",
         "CLERK",
         7788,
         "1987-05-23",
         1100,
         null,
         20,
         "2022-01-06"
        ],
        [
         7900,
         "JAMES",
         "CLERK",
         7698,
         "1981-03-12",
         950,
         null,
         30,
         "2022-01-07"
        ],
        [
         7902,
         "FORD",
         "ANALYST",
         7566,
         "1981-03-12",
         3000,
         null,
         20,
         "2022-01-07"
        ],
        [
         7934,
         "MILLER",
         "CLERK",
         7782,
         "1982-03-01",
         1300,
         null,
         10,
         "2022-01-07"
        ],
        [
         1234,
         "RAM",
         "CLERK",
         7457,
         null,
         494,
         588,
         80,
         "2022-01-07"
        ],
        [
         null,
         null,
         null,
         null,
         null,
         null,
         null,
         null,
         null
        ],
        [
         null,
         null,
         null,
         null,
         null,
         null,
         null,
         null,
         null
        ],
        [
         null,
         null,
         null,
         null,
         null,
         null,
         null,
         null,
         null
        ]
       ],
       "datasetInfos": [],
       "dbfsResultPath": null,
       "isJsonSchema": true,
       "metadata": {},
       "overflow": false,
       "plotOptions": {
        "customPlotOptions": {},
        "displayType": "table",
        "pivotAggregation": null,
        "pivotColumns": null,
        "xColumns": null,
        "yColumns": null
       },
       "removedWidgets": [],
       "schema": [
        {
         "metadata": "{}",
         "name": "EMPNO",
         "type": "\"integer\""
        },
        {
         "metadata": "{}",
         "name": "ENAME",
         "type": "\"string\""
        },
        {
         "metadata": "{}",
         "name": "JOB",
         "type": "\"string\""
        },
        {
         "metadata": "{}",
         "name": "MGR",
         "type": "\"integer\""
        },
        {
         "metadata": "{\"__detected_date_formats\":\"d-M-yyyy\"}",
         "name": "HIREDATE",
         "type": "\"date\""
        },
        {
         "metadata": "{}",
         "name": "SAL",
         "type": "\"integer\""
        },
        {
         "metadata": "{}",
         "name": "COMM",
         "type": "\"integer\""
        },
        {
         "metadata": "{}",
         "name": "DEPTNO",
         "type": "\"integer\""
        },
        {
         "metadata": "{\"__detected_date_formats\":\"yyyy-M-d\"}",
         "name": "UPDATED_DATE",
         "type": "\"date\""
        }
       ],
       "type": "table"
      }
     },
     "output_type": "display_data"
    }
   ],
   "source": [
    "df_emp_csv  = spark.read.option(\"nullValue\",\"null\").csv(\"/FileStore/tables/emp.csv\",header=True,inferSchema=True)\n",
    "display(df_emp_csv)"
   ]
  },
  {
   "cell_type": "code",
   "execution_count": 0,
   "metadata": {
    "application/vnd.databricks.v1+cell": {
     "cellMetadata": {
      "byteLimit": 2048000,
      "rowLimit": 10000
     },
     "inputWidgets": {},
     "nuid": "118dfb52-c44d-4237-82c7-c138a237f864",
     "showTitle": false,
     "title": ""
    }
   },
   "outputs": [
    {
     "output_type": "stream",
     "name": "stdout",
     "output_type": "stream",
     "text": [
      "+-----+------+---------+----+----------+----+----+------+------------+\n|EMPNO| ENAME|      JOB| MGR|  HIREDATE| SAL|COMM|DEPTNO|UPDATED_DATE|\n+-----+------+---------+----+----------+----+----+------+------------+\n| 7369| SMITH|    CLERK|7902|1980-12-17| 800|null|    20|  2022-01-01|\n| 7499| ALLEN| SALESMAN|7698|1981-02-20|1600| 300|    30|  2022-01-01|\n| 7521|  WARD| SALESMAN|7698|1981-02-22|1250| 500|    30|  2022-01-01|\n| 7566| JONES|  MANAGER|7839|1981-02-04|2975|null|    20|  2022-01-05|\n| 7654|MARTIN| SALESMAN|7698|1981-09-21|1250|1400|    30|  2022-01-03|\n| 7698|   SGR|  MANAGER|7839|1981-01-05|2850|null|    30|  2022-01-04|\n| 7782|  RAVI|  MANAGER|7839|1981-09-06|2450|null|    10|  2022-01-02|\n| 7788| SCOTT|  ANALYST|7566|1987-04-19|3000|null|    20|  2022-01-02|\n| 7839|  KING|PRESIDENT|null|1981-11-01|5000|null|    10|  2022-01-02|\n| 7844|TURNER| SALESMAN|7698|1981-08-09|1500|   0|    30|  2022-01-02|\n| 7876| ADAMS|    CLERK|7788|1987-05-23|1100|null|    20|  2022-01-03|\n| 7900| JAMES|    CLERK|7698|1981-03-12| 950|null|    30|  2022-01-03|\n| 7902|  FORD|  ANALYST|7566|1981-03-12|3000|null|    20|  2022-01-03|\n| 7934|MILLER|    CLERK|7782|1982-03-01|1300|null|    10|  2022-01-03|\n| 1234|SEKHAR|   doctor|7777|9999-12-31| 667|  78|    80|  2022-01-03|\n| 7369| SMITH|    CLERK|7902|1980-12-17| 800|null|    20|  2022-01-04|\n| 7499| ALLEN| SALESMAN|7698|1981-02-20|1600| 300|    30|  2022-01-04|\n| 7521|  WARD| SALESMAN|7698|1981-02-22|1250| 500|    30|  2022-01-04|\n| 7566| JONES|  MANAGER|7839|1981-02-04|2975|null|    20|  2022-01-04|\n| 7654|MARTIN| SALESMAN|7698|1981-09-21|1250|1400|    30|  2022-01-05|\n+-----+------+---------+----+----------+----+----+------+------------+\nonly showing top 20 rows\n\n"
     ]
    }
   ],
   "source": [
    "from pyspark.sql.functions import to_date\n",
    "#Change string to Date DataType\n",
    "df_emp_csv = df_emp_csv.withColumn(\"HIREDATE\",to_date(\"HIREDATE\",'dd-MM-yyyy')).fillna({\"HIREDATE\":'9999-12-31'})\n",
    "df_emp_csv.show()"
   ]
  },
  {
   "cell_type": "code",
   "execution_count": 0,
   "metadata": {
    "application/vnd.databricks.v1+cell": {
     "cellMetadata": {
      "byteLimit": 2048000,
      "rowLimit": 10000
     },
     "inputWidgets": {},
     "nuid": "f637b056-be2f-4ea7-9503-b3aa3f7a9e0a",
     "showTitle": false,
     "title": ""
    }
   },
   "outputs": [
    {
     "output_type": "stream",
     "name": "stdout",
     "output_type": "stream",
     "text": [
      "+-----+------+---------+----+----------+----+----+------+------------+----+-----+\n|EMPNO| ENAME|      JOB| MGR|  HIREDATE| SAL|COMM|DEPTNO|UPDATED_DATE|YEAR|MONTH|\n+-----+------+---------+----+----------+----+----+------+------------+----+-----+\n| 7369| SMITH|    CLERK|7902|1980-12-17| 800|null|    20|  2022-01-01|1980|   12|\n| 7499| ALLEN| SALESMAN|7698|1981-02-20|1600| 300|    30|  2022-01-01|1981|   02|\n| 7521|  WARD| SALESMAN|7698|1981-02-22|1250| 500|    30|  2022-01-01|1981|   02|\n| 7566| JONES|  MANAGER|7839|1981-02-04|2975|null|    20|  2022-01-05|1981|   02|\n| 7654|MARTIN| SALESMAN|7698|1981-09-21|1250|1400|    30|  2022-01-03|1981|   09|\n| 7698|   SGR|  MANAGER|7839|1981-01-05|2850|null|    30|  2022-01-04|1981|   01|\n| 7782|  RAVI|  MANAGER|7839|1981-09-06|2450|null|    10|  2022-01-02|1981|   09|\n| 7788| SCOTT|  ANALYST|7566|1987-04-19|3000|null|    20|  2022-01-02|1987|   04|\n| 7839|  KING|PRESIDENT|null|1981-11-01|5000|null|    10|  2022-01-02|1981|   11|\n| 7844|TURNER| SALESMAN|7698|1981-08-09|1500|   0|    30|  2022-01-02|1981|   08|\n| 7876| ADAMS|    CLERK|7788|1987-05-23|1100|null|    20|  2022-01-03|1987|   05|\n| 7900| JAMES|    CLERK|7698|1981-03-12| 950|null|    30|  2022-01-03|1981|   03|\n| 7902|  FORD|  ANALYST|7566|1981-03-12|3000|null|    20|  2022-01-03|1981|   03|\n| 7934|MILLER|    CLERK|7782|1982-03-01|1300|null|    10|  2022-01-03|1982|   03|\n| 1234|SEKHAR|   doctor|7777|9999-12-31| 667|  78|    80|  2022-01-03|9999|   12|\n| 7369| SMITH|    CLERK|7902|1980-12-17| 800|null|    20|  2022-01-04|1980|   12|\n| 7499| ALLEN| SALESMAN|7698|1981-02-20|1600| 300|    30|  2022-01-04|1981|   02|\n| 7521|  WARD| SALESMAN|7698|1981-02-22|1250| 500|    30|  2022-01-04|1981|   02|\n| 7566| JONES|  MANAGER|7839|1981-02-04|2975|null|    20|  2022-01-04|1981|   02|\n| 7654|MARTIN| SALESMAN|7698|1981-09-21|1250|1400|    30|  2022-01-05|1981|   09|\n+-----+------+---------+----+----------+----+----+------+------------+----+-----+\nonly showing top 20 rows\n\n"
     ]
    }
   ],
   "source": [
    "from pyspark.sql.functions import date_format\n",
    "#creating two YEAR and MONTH new columns based on hiredate date field\n",
    "df_emp_csv = df_emp_csv.withColumn(\"YEAR\",date_format(\"HIREDATE\",'yyyy')).withColumn(\"MONTH\",date_format(\"HIREDATE\",'MM'))\n",
    "df_emp_csv.show()"
   ]
  },
  {
   "cell_type": "code",
   "execution_count": 0,
   "metadata": {
    "application/vnd.databricks.v1+cell": {
     "cellMetadata": {
      "byteLimit": 2048000,
      "rowLimit": 10000
     },
     "inputWidgets": {},
     "nuid": "796693d9-87bc-407b-b553-2196d0de9fb9",
     "showTitle": false,
     "title": ""
    }
   },
   "outputs": [],
   "source": [
    "# using PartitionBy with two columns creating partitions\n",
    "df_emp_csv.write.format(\"delta\").partitionBy(\"YEAR\",\"MONTH\").mode(\"overwrite\").saveAsTable(\"emp_part\")"
   ]
  },
  {
   "cell_type": "code",
   "execution_count": 0,
   "metadata": {
    "application/vnd.databricks.v1+cell": {
     "cellMetadata": {
      "byteLimit": 2048000,
      "rowLimit": 10000
     },
     "inputWidgets": {},
     "nuid": "a571b9cf-0e32-48e7-966d-2a246ed22523",
     "showTitle": false,
     "title": ""
    }
   },
   "outputs": [
    {
     "output_type": "display_data",
     "data": {
      "text/html": [
       "<style scoped>\n",
       "  .table-result-container {\n",
       "    max-height: 300px;\n",
       "    overflow: auto;\n",
       "  }\n",
       "  table, th, td {\n",
       "    border: 1px solid black;\n",
       "    border-collapse: collapse;\n",
       "  }\n",
       "  th, td {\n",
       "    padding: 5px;\n",
       "  }\n",
       "  th {\n",
       "    text-align: left;\n",
       "  }\n",
       "</style><div class='table-result-container'><table class='table-result'><thead style='background-color: white'><tr><th>path</th><th>name</th><th>size</th><th>modificationTime</th></tr></thead><tbody><tr><td>dbfs:/user/hive/warehouse/emp_part/YEAR=1980/MONTH=12/part-00000-feb42a8e-5f46-4298-95f1-ccc8a3ce6d31.c000.snappy.parquet</td><td>part-00000-feb42a8e-5f46-4298-95f1-ccc8a3ce6d31.c000.snappy.parquet</td><td>2687</td><td>1718244482000</td></tr></tbody></table></div>"
      ]
     },
     "metadata": {
      "application/vnd.databricks.v1+output": {
       "addedWidgets": {},
       "aggData": [],
       "aggError": "",
       "aggOverflow": false,
       "aggSchema": [],
       "aggSeriesLimitReached": false,
       "aggType": "",
       "arguments": {},
       "columnCustomDisplayInfos": {},
       "data": [
        [
         "dbfs:/user/hive/warehouse/emp_part/YEAR=1980/MONTH=12/part-00000-feb42a8e-5f46-4298-95f1-ccc8a3ce6d31.c000.snappy.parquet",
         "part-00000-feb42a8e-5f46-4298-95f1-ccc8a3ce6d31.c000.snappy.parquet",
         2687,
         1718244482000
        ]
       ],
       "datasetInfos": [],
       "dbfsResultPath": null,
       "isJsonSchema": true,
       "metadata": {
        "isDbfsCommandResult": false
       },
       "overflow": false,
       "plotOptions": {
        "customPlotOptions": {},
        "displayType": "table",
        "pivotAggregation": null,
        "pivotColumns": null,
        "xColumns": null,
        "yColumns": null
       },
       "removedWidgets": [],
       "schema": [
        {
         "metadata": "{}",
         "name": "path",
         "type": "\"string\""
        },
        {
         "metadata": "{}",
         "name": "name",
         "type": "\"string\""
        },
        {
         "metadata": "{}",
         "name": "size",
         "type": "\"long\""
        },
        {
         "metadata": "{}",
         "name": "modificationTime",
         "type": "\"long\""
        }
       ],
       "type": "table"
      }
     },
     "output_type": "display_data"
    }
   ],
   "source": [
    "%fs ls /user/hive/warehouse/emp_part/YEAR=1980/MONTH=12/"
   ]
  },
  {
   "cell_type": "code",
   "execution_count": 0,
   "metadata": {
    "application/vnd.databricks.v1+cell": {
     "cellMetadata": {
      "byteLimit": 2048000,
      "implicitDf": true,
      "rowLimit": 10000
     },
     "inputWidgets": {},
     "nuid": "1bf836a2-8f20-4885-b666-7103dea69e9b",
     "showTitle": false,
     "title": ""
    }
   },
   "outputs": [
    {
     "output_type": "display_data",
     "data": {
      "text/html": [
       "<style scoped>\n",
       "  .table-result-container {\n",
       "    max-height: 300px;\n",
       "    overflow: auto;\n",
       "  }\n",
       "  table, th, td {\n",
       "    border: 1px solid black;\n",
       "    border-collapse: collapse;\n",
       "  }\n",
       "  th, td {\n",
       "    padding: 5px;\n",
       "  }\n",
       "  th {\n",
       "    text-align: left;\n",
       "  }\n",
       "</style><div class='table-result-container'><table class='table-result'><thead style='background-color: white'><tr><th>EMPNO</th><th>ENAME</th><th>JOB</th><th>MGR</th><th>HIREDATE</th><th>SAL</th><th>COMM</th><th>DEPTNO</th><th>UPDATED_DATE</th><th>YEAR</th><th>MONTH</th></tr></thead><tbody><tr><td>7369</td><td>SMITH</td><td>CLERK</td><td>7902</td><td>1980-12-17</td><td>800</td><td>null</td><td>20</td><td>2022-01-01</td><td>1980</td><td>12</td></tr><tr><td>7369</td><td>SMITH</td><td>CLERK</td><td>7902</td><td>1980-12-17</td><td>800</td><td>null</td><td>20</td><td>2022-01-04</td><td>1980</td><td>12</td></tr></tbody></table></div>"
      ]
     },
     "metadata": {
      "application/vnd.databricks.v1+output": {
       "addedWidgets": {},
       "aggData": [],
       "aggError": "",
       "aggOverflow": false,
       "aggSchema": [],
       "aggSeriesLimitReached": false,
       "aggType": "",
       "arguments": {},
       "columnCustomDisplayInfos": {},
       "data": [
        [
         7369,
         "SMITH",
         "CLERK",
         7902,
         "1980-12-17",
         800,
         null,
         20,
         "2022-01-01",
         "1980",
         "12"
        ],
        [
         7369,
         "SMITH",
         "CLERK",
         7902,
         "1980-12-17",
         800,
         null,
         20,
         "2022-01-04",
         "1980",
         "12"
        ]
       ],
       "datasetInfos": [],
       "dbfsResultPath": null,
       "isJsonSchema": true,
       "metadata": {},
       "overflow": false,
       "plotOptions": {
        "customPlotOptions": {},
        "displayType": "table",
        "pivotAggregation": null,
        "pivotColumns": null,
        "xColumns": null,
        "yColumns": null
       },
       "removedWidgets": [],
       "schema": [
        {
         "metadata": "{}",
         "name": "EMPNO",
         "type": "\"integer\""
        },
        {
         "metadata": "{}",
         "name": "ENAME",
         "type": "\"string\""
        },
        {
         "metadata": "{}",
         "name": "JOB",
         "type": "\"string\""
        },
        {
         "metadata": "{}",
         "name": "MGR",
         "type": "\"integer\""
        },
        {
         "metadata": "{}",
         "name": "HIREDATE",
         "type": "\"date\""
        },
        {
         "metadata": "{}",
         "name": "SAL",
         "type": "\"integer\""
        },
        {
         "metadata": "{}",
         "name": "COMM",
         "type": "\"integer\""
        },
        {
         "metadata": "{}",
         "name": "DEPTNO",
         "type": "\"integer\""
        },
        {
         "metadata": "{\"__detected_date_formats\":\"yyyy-M-d\"}",
         "name": "UPDATED_DATE",
         "type": "\"date\""
        },
        {
         "metadata": "{}",
         "name": "YEAR",
         "type": "\"string\""
        },
        {
         "metadata": "{}",
         "name": "MONTH",
         "type": "\"string\""
        }
       ],
       "type": "table"
      }
     },
     "output_type": "display_data"
    }
   ],
   "source": [
    "%sql\n",
    " select * from emp_part where year='1980'"
   ]
  }
 ],
 "metadata": {
  "application/vnd.databricks.v1+notebook": {
   "dashboards": [],
   "environmentMetadata": null,
   "language": "python",
   "notebookMetadata": {
    "mostRecentlyExecutedCommandWithImplicitDF": {
     "commandId": 3415470995301684,
     "dataframes": [
      "_sqldf"
     ]
    },
    "pythonIndentUnit": 4
   },
   "notebookName": "create year and month wise partition in pyspark",
   "widgets": {}
  }
 },
 "nbformat": 4,
 "nbformat_minor": 0
}
